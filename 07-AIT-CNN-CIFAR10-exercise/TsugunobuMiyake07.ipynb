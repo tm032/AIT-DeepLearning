{
  "nbformat": 4,
  "nbformat_minor": 0,
  "metadata": {
    "anaconda-cloud": {},
    "kernelspec": {
      "display_name": "Python 3",
      "language": "python",
      "name": "python3"
    },
    "language_info": {
      "codemirror_mode": {
        "name": "ipython",
        "version": 3
      },
      "file_extension": ".py",
      "mimetype": "text/x-python",
      "name": "python",
      "nbconvert_exporter": "python",
      "pygments_lexer": "ipython3",
      "version": "3.6.6"
    },
    "colab": {
      "provenance": []
    },
    "accelerator": "GPU"
  },
  "cells": [
    {
      "cell_type": "markdown",
      "metadata": {
        "id": "cW-EyI5Lxpqi"
      },
      "source": [
        "# Copyright\n",
        "\n",
        "<PRE>\n",
        "Copyright (c) 2024 Bálint Gyires-Tóth - All Rights Reserved\n",
        "You may use and modify this code for research and development purpuses.\n",
        "Using this code for educational purposes (self-paced or instructor led) without the permission of the author is prohibited.\n",
        "</PRE>"
      ]
    },
    {
      "cell_type": "markdown",
      "source": [
        "# Convolutional Neural Network exercise\n",
        "\n",
        "In this notebook, you will build a convolutional neural network, which offers superior results over the previous MLP solution. Additionally, you will perform a more detailed evaluation."
      ],
      "metadata": {
        "id": "3EX4cCa4WKJu"
      }
    },
    {
      "cell_type": "code",
      "source": [
        "# imports\n",
        "from tensorflow.keras.datasets import cifar10\n",
        "from tensorflow.keras.utils import to_categorical\n",
        "import numpy as np\n",
        "import matplotlib.pyplot as plt\n",
        "from tensorflow.keras.models import Sequential\n",
        "from tensorflow.keras.layers import Dense, Conv2D, MaxPool2D, Flatten, Dropout, BatchNormalization\n",
        "from tensorflow.keras.initializers import HeNormal\n",
        "from tensorflow.keras.callbacks import EarlyStopping"
      ],
      "metadata": {
        "id": "GdCMhy4HA2qd"
      },
      "execution_count": 1,
      "outputs": []
    },
    {
      "cell_type": "markdown",
      "source": [
        "# 1. Data\n",
        "The dataset we will use is the well-known CIFAR10 (Canadian Institute For Advanced Research). Explore the details on the Keras website first: https://keras.io/api/datasets/cifar10/\n",
        "\n",
        "There isn't much difference between the data preprocessing part and the one we did before. The only difference is that we don't have to reshape images into vectors, but we are working with a 4 dimensional data structure, where the dimensions are: batch, X, Y, and color channels.\n",
        "\n",
        "In the event that anything is not clear regarding the data preparation part, please check the previous CIFAR10 notebook."
      ],
      "metadata": {
        "id": "yY9fztIeWIKt"
      }
    },
    {
      "cell_type": "code",
      "source": [
        "(X_train, Y_train), (X_test, Y_test) = cifar10.load_data()"
      ],
      "metadata": {
        "id": "bez7q0eiWQCK",
        "colab": {
          "base_uri": "https://localhost:8080/"
        },
        "outputId": "06e76fc9-9490-41e0-d64d-13900ef3f081"
      },
      "execution_count": 2,
      "outputs": [
        {
          "output_type": "stream",
          "name": "stdout",
          "text": [
            "Downloading data from https://www.cs.toronto.edu/~kriz/cifar-10-python.tar.gz\n",
            "170498071/170498071 [==============================] - 13s 0us/step\n"
          ]
        }
      ]
    },
    {
      "cell_type": "code",
      "source": [
        "# it is in int8 format, the neural network requires float32\n",
        "X_train = X_train.astype(\"float32\")\n",
        "X_test = X_test.astype(\"float32\")"
      ],
      "metadata": {
        "id": "vukOcBM0XzSj"
      },
      "execution_count": 3,
      "outputs": []
    },
    {
      "cell_type": "code",
      "source": [
        "train_ratio  = 0.8\n",
        "train_length = X_train.shape[0]\n",
        "train_split  = int(train_ratio*train_length)\n",
        "X_valid, Y_valid = X_train[train_split:], Y_train[train_split:]\n",
        "X_train, Y_train = X_train[:train_split], Y_train[:train_split]"
      ],
      "metadata": {
        "id": "mRwuWxxIxLgN"
      },
      "execution_count": 4,
      "outputs": []
    },
    {
      "cell_type": "code",
      "source": [
        "mean = X_train.mean(axis=0)\n",
        "std  = X_train.std(axis=0)\n",
        "\n",
        "X_train = (X_train-mean)/std\n",
        "X_valid = (X_valid-mean)/std\n",
        "X_test  = (X_test-mean)/std"
      ],
      "metadata": {
        "id": "2ESLP1EIyB2J"
      },
      "execution_count": 5,
      "outputs": []
    },
    {
      "cell_type": "code",
      "source": [
        "nb_classes = len(np.unique(Y_train))\n",
        "Y_train = to_categorical(Y_train, nb_classes)\n",
        "Y_valid = to_categorical(Y_valid, nb_classes)\n",
        "Y_test  = to_categorical(Y_test, nb_classes)"
      ],
      "metadata": {
        "id": "xwZ4OJ6I8lba"
      },
      "execution_count": 6,
      "outputs": []
    },
    {
      "cell_type": "code",
      "source": [
        "print(\"Shapes of the training, validation and test input data:\", X_train.shape, X_valid.shape, X_test.shape)\n",
        "print(\"Shapes of the training, validation and test output data:\", Y_train.shape, Y_valid.shape, Y_test.shape)\n",
        "print(\"Mean values of the training, validation and test input data:\", X_train.mean(), X_valid.mean(), X_test.mean())\n",
        "print(\"Standard deviation of the training, validation and test input data:\", X_train.std(), X_valid.std(), X_test.std())"
      ],
      "metadata": {
        "id": "O_jdJVcvX0vi",
        "colab": {
          "base_uri": "https://localhost:8080/"
        },
        "outputId": "da3baf68-af61-4da7-8536-dcc3cf4b0eef"
      },
      "execution_count": 7,
      "outputs": [
        {
          "output_type": "stream",
          "name": "stdout",
          "text": [
            "Shapes of the training, validation and test input data: (40000, 32, 32, 3) (10000, 32, 32, 3) (10000, 32, 32, 3)\n",
            "Shapes of the training, validation and test output data: (40000, 10) (10000, 10) (10000, 10)\n",
            "Mean values of the training, validation and test input data: 2.2788842e-09 0.0023437198 0.013331206\n",
            "Standard deviation of the training, validation and test input data: 1.0000023 0.9965626 0.99783075\n"
          ]
        }
      ]
    },
    {
      "cell_type": "markdown",
      "metadata": {
        "id": "cJ14oyZExpqj"
      },
      "source": [
        "# 2. Exercise: training"
      ]
    },
    {
      "cell_type": "markdown",
      "source": [
        "Create and train a convolutional neural network with the following requirements:\n",
        "* apply early stopping with patience=5 and monitor the validation accuracy, don't forget to load back the best weights after early stopping\n",
        "* the number of trainable parameters is lower than 200.000\n",
        "* the validation accuracy must be higher than 72%\n",
        "\n",
        "Hints:\n",
        "* you can always inspect the number of trainable parameters per layer with model.summary()\n",
        "* usually the most trainable parameters are between the last convolutional layer and the next dense layer -- so you should have a reasonable output size at the last convolutional layer\n",
        "* regularization helps (e.g. DropOut and/or BatchNormalization)\n",
        "* use the right activation function at the output layer and the corresponding loss function\n",
        "* for the chosen activation functions, please use the appropriate initialization method\n",
        "* you can match the dimension of the last conv/pooling layer to the next dense layer with e.g. Flatten()\n",
        "* ADAM optimizer is a reasonable choice\n",
        "* don't forget to turn on GPU support in Colab, otherwise, it would be quite slow to train the networks\n",
        "\n"
      ],
      "metadata": {
        "id": "j1tGVPdD-pp3"
      }
    },
    {
      "cell_type": "code",
      "source": [
        "es = EarlyStopping(\n",
        "    monitor='val_accuracy',\n",
        "    patience=5,\n",
        "    min_delta=0.0001,\n",
        "    restore_best_weights=True,\n",
        ")"
      ],
      "metadata": {
        "id": "5dBQxJHIHrbd"
      },
      "execution_count": 8,
      "outputs": []
    },
    {
      "cell_type": "code",
      "source": [
        "# model definition\n",
        "model = Sequential()\n",
        "# model definition\n",
        "dropout_rate = 0.41\n",
        "model = Sequential()\n",
        "model.add(Conv2D(100, 3, (2,2),\n",
        "                 input_shape=(32,32,3),\n",
        "                 activation=\"relu\",\n",
        "                 kernel_initializer=\"he_normal\",\n",
        "                 padding=\"same\"))\n",
        "model.add(MaxPool2D(pool_size=2, strides=2, padding=\"same\"))\n",
        "model.add(BatchNormalization())\n",
        "model.add(Conv2D(100, 2, (1,1),\n",
        "                 activation=\"relu\",\n",
        "                 kernel_initializer=\"he_normal\",\n",
        "                 padding=\"same\"))\n",
        "model.add(Dropout(dropout_rate))\n",
        "model.add(Conv2D(50, 2, (1,1),\n",
        "                 activation=\"relu\",\n",
        "                 kernel_initializer=\"he_normal\",\n",
        "                 padding=\"same\"))\n",
        "model.add(Flatten())\n",
        "model.add(Dense(nb_classes, activation='softmax'))\n",
        "\n",
        "# loss function and optimizer\n",
        "model.compile(loss='categorical_crossentropy', optimizer='adam', metrics=['accuracy'])"
      ],
      "metadata": {
        "id": "PuxHOqLt-3Nd"
      },
      "execution_count": 132,
      "outputs": []
    },
    {
      "cell_type": "code",
      "source": [
        "model.summary()"
      ],
      "metadata": {
        "id": "5eomQw8uE9Ix",
        "colab": {
          "base_uri": "https://localhost:8080/"
        },
        "outputId": "936aa985-3f93-49ed-f93b-c76f8428513a"
      },
      "execution_count": 133,
      "outputs": [
        {
          "output_type": "stream",
          "name": "stdout",
          "text": [
            "Model: \"sequential_85\"\n",
            "_________________________________________________________________\n",
            " Layer (type)                Output Shape              Param #   \n",
            "=================================================================\n",
            " conv2d_83 (Conv2D)          (None, 16, 16, 100)       2800      \n",
            "                                                                 \n",
            " max_pooling2d_39 (MaxPooli  (None, 8, 8, 100)         0         \n",
            " ng2D)                                                           \n",
            "                                                                 \n",
            " batch_normalization_7 (Bat  (None, 8, 8, 100)         400       \n",
            " chNormalization)                                                \n",
            "                                                                 \n",
            " conv2d_84 (Conv2D)          (None, 8, 8, 100)         40100     \n",
            "                                                                 \n",
            " dropout_45 (Dropout)        (None, 8, 8, 100)         0         \n",
            "                                                                 \n",
            " conv2d_85 (Conv2D)          (None, 8, 8, 50)          20050     \n",
            "                                                                 \n",
            " flatten_38 (Flatten)        (None, 3200)              0         \n",
            "                                                                 \n",
            " dense_57 (Dense)            (None, 10)                32010     \n",
            "                                                                 \n",
            "=================================================================\n",
            "Total params: 95360 (372.50 KB)\n",
            "Trainable params: 95160 (371.72 KB)\n",
            "Non-trainable params: 200 (800.00 Byte)\n",
            "_________________________________________________________________\n"
          ]
        }
      ]
    },
    {
      "cell_type": "markdown",
      "source": [
        "Please, check the number of trainable paramers:"
      ],
      "metadata": {
        "id": "8tIbIIeTEI41"
      }
    },
    {
      "cell_type": "code",
      "source": [
        "print(\"#trainable parameters:\",model.count_params())"
      ],
      "metadata": {
        "id": "xdBAG7EJETlX",
        "colab": {
          "base_uri": "https://localhost:8080/"
        },
        "outputId": "aced9f08-23fd-41f1-e98b-157f9d2d6c36"
      },
      "execution_count": 134,
      "outputs": [
        {
          "output_type": "stream",
          "name": "stdout",
          "text": [
            "#trainable parameters: 95360\n"
          ]
        }
      ]
    },
    {
      "cell_type": "code",
      "source": [
        "# training\n",
        "network_history = model.fit(X_train, Y_train,\n",
        "                            validation_data=(X_valid,Y_valid),\n",
        "                            batch_size=128,\n",
        "                            epochs=100000000000,\n",
        "                            verbose=1,\n",
        "                            callbacks=[es])"
      ],
      "metadata": {
        "id": "u8tFNCNVHyt9",
        "colab": {
          "base_uri": "https://localhost:8080/"
        },
        "outputId": "ebe059bd-c6b4-498e-813b-b2970f964c86"
      },
      "execution_count": 135,
      "outputs": [
        {
          "output_type": "stream",
          "name": "stdout",
          "text": [
            "Epoch 1/100000000000\n",
            "313/313 [==============================] - 5s 10ms/step - loss: 1.5543 - accuracy: 0.4429 - val_loss: 1.3048 - val_accuracy: 0.5407\n",
            "Epoch 2/100000000000\n",
            "313/313 [==============================] - 3s 8ms/step - loss: 1.2094 - accuracy: 0.5688 - val_loss: 1.1310 - val_accuracy: 0.6033\n",
            "Epoch 3/100000000000\n",
            "313/313 [==============================] - 3s 9ms/step - loss: 1.0676 - accuracy: 0.6234 - val_loss: 1.0328 - val_accuracy: 0.6360\n",
            "Epoch 4/100000000000\n",
            "313/313 [==============================] - 2s 8ms/step - loss: 0.9644 - accuracy: 0.6628 - val_loss: 0.9440 - val_accuracy: 0.6732\n",
            "Epoch 5/100000000000\n",
            "313/313 [==============================] - 3s 8ms/step - loss: 0.9053 - accuracy: 0.6827 - val_loss: 0.9033 - val_accuracy: 0.6886\n",
            "Epoch 6/100000000000\n",
            "313/313 [==============================] - 2s 8ms/step - loss: 0.8517 - accuracy: 0.7014 - val_loss: 0.8871 - val_accuracy: 0.6898\n",
            "Epoch 7/100000000000\n",
            "313/313 [==============================] - 3s 9ms/step - loss: 0.8045 - accuracy: 0.7179 - val_loss: 0.8533 - val_accuracy: 0.7045\n",
            "Epoch 8/100000000000\n",
            "313/313 [==============================] - 3s 8ms/step - loss: 0.7779 - accuracy: 0.7275 - val_loss: 0.8423 - val_accuracy: 0.7092\n",
            "Epoch 9/100000000000\n",
            "313/313 [==============================] - 3s 8ms/step - loss: 0.7415 - accuracy: 0.7428 - val_loss: 0.8411 - val_accuracy: 0.7073\n",
            "Epoch 10/100000000000\n",
            "313/313 [==============================] - 2s 8ms/step - loss: 0.7136 - accuracy: 0.7522 - val_loss: 0.8534 - val_accuracy: 0.7034\n",
            "Epoch 11/100000000000\n",
            "313/313 [==============================] - 2s 8ms/step - loss: 0.6903 - accuracy: 0.7579 - val_loss: 0.8172 - val_accuracy: 0.7172\n",
            "Epoch 12/100000000000\n",
            "313/313 [==============================] - 3s 9ms/step - loss: 0.6664 - accuracy: 0.7637 - val_loss: 0.8069 - val_accuracy: 0.7266\n",
            "Epoch 13/100000000000\n",
            "313/313 [==============================] - 3s 8ms/step - loss: 0.6486 - accuracy: 0.7708 - val_loss: 0.8217 - val_accuracy: 0.7199\n",
            "Epoch 14/100000000000\n",
            "313/313 [==============================] - 2s 8ms/step - loss: 0.6313 - accuracy: 0.7794 - val_loss: 0.8265 - val_accuracy: 0.7209\n",
            "Epoch 15/100000000000\n",
            "313/313 [==============================] - 2s 8ms/step - loss: 0.6152 - accuracy: 0.7819 - val_loss: 0.7975 - val_accuracy: 0.7280\n",
            "Epoch 16/100000000000\n",
            "313/313 [==============================] - 2s 8ms/step - loss: 0.5964 - accuracy: 0.7878 - val_loss: 0.7959 - val_accuracy: 0.7301\n",
            "Epoch 17/100000000000\n",
            "313/313 [==============================] - 3s 9ms/step - loss: 0.5881 - accuracy: 0.7907 - val_loss: 0.8141 - val_accuracy: 0.7275\n",
            "Epoch 18/100000000000\n",
            "313/313 [==============================] - 3s 9ms/step - loss: 0.5777 - accuracy: 0.7973 - val_loss: 0.8285 - val_accuracy: 0.7193\n",
            "Epoch 19/100000000000\n",
            "313/313 [==============================] - 3s 9ms/step - loss: 0.5574 - accuracy: 0.8020 - val_loss: 0.8318 - val_accuracy: 0.7276\n",
            "Epoch 20/100000000000\n",
            "313/313 [==============================] - 2s 8ms/step - loss: 0.5499 - accuracy: 0.8040 - val_loss: 0.8026 - val_accuracy: 0.7340\n",
            "Epoch 21/100000000000\n",
            "313/313 [==============================] - 3s 8ms/step - loss: 0.5354 - accuracy: 0.8089 - val_loss: 0.8361 - val_accuracy: 0.7253\n",
            "Epoch 22/100000000000\n",
            "313/313 [==============================] - 3s 9ms/step - loss: 0.5310 - accuracy: 0.8090 - val_loss: 0.8091 - val_accuracy: 0.7336\n",
            "Epoch 23/100000000000\n",
            "313/313 [==============================] - 2s 8ms/step - loss: 0.5165 - accuracy: 0.8171 - val_loss: 0.8227 - val_accuracy: 0.7330\n",
            "Epoch 24/100000000000\n",
            "313/313 [==============================] - 2s 8ms/step - loss: 0.5152 - accuracy: 0.8148 - val_loss: 0.8204 - val_accuracy: 0.7353\n",
            "Epoch 25/100000000000\n",
            "313/313 [==============================] - 2s 8ms/step - loss: 0.5031 - accuracy: 0.8214 - val_loss: 0.8249 - val_accuracy: 0.7286\n",
            "Epoch 26/100000000000\n",
            "313/313 [==============================] - 3s 10ms/step - loss: 0.4938 - accuracy: 0.8232 - val_loss: 0.8204 - val_accuracy: 0.7335\n",
            "Epoch 27/100000000000\n",
            "313/313 [==============================] - 3s 8ms/step - loss: 0.4881 - accuracy: 0.8255 - val_loss: 0.8224 - val_accuracy: 0.7376\n",
            "Epoch 28/100000000000\n",
            "313/313 [==============================] - 2s 8ms/step - loss: 0.4798 - accuracy: 0.8261 - val_loss: 0.8130 - val_accuracy: 0.7343\n",
            "Epoch 29/100000000000\n",
            "313/313 [==============================] - 2s 8ms/step - loss: 0.4719 - accuracy: 0.8307 - val_loss: 0.8128 - val_accuracy: 0.7366\n",
            "Epoch 30/100000000000\n",
            "313/313 [==============================] - 2s 8ms/step - loss: 0.4663 - accuracy: 0.8329 - val_loss: 0.8437 - val_accuracy: 0.7344\n",
            "Epoch 31/100000000000\n",
            "313/313 [==============================] - 3s 9ms/step - loss: 0.4673 - accuracy: 0.8301 - val_loss: 0.8652 - val_accuracy: 0.7295\n",
            "Epoch 32/100000000000\n",
            "313/313 [==============================] - 2s 8ms/step - loss: 0.4551 - accuracy: 0.8360 - val_loss: 0.8353 - val_accuracy: 0.7326\n"
          ]
        }
      ]
    },
    {
      "cell_type": "markdown",
      "source": [
        "# 3. Exercise: evaluation on test data\n",
        "You will evaluate the classification of the test data using the common metrics and the confusion matrix in this section.\n",
        "\n",
        "\n",
        "As a first stes, let's run the predictions and convert the predicted softmax outputs to dense labels. The one-hot encoded labels are also converted back to dense labels, as they are required for the evaluation functions."
      ],
      "metadata": {
        "id": "2FtKp-a2-A9m"
      }
    },
    {
      "cell_type": "code",
      "source": [
        "probas = model.predict(X_test)\n",
        "preds  = np.argmax(probas,axis=1)\n",
        "Y_test_dense = np.argmax(Y_test, axis=1) # get the original dense labels of the test data"
      ],
      "metadata": {
        "id": "EcWAqwlDMq3y",
        "colab": {
          "base_uri": "https://localhost:8080/"
        },
        "outputId": "4e0de351-1b9f-43ca-f540-b81ff1e34741"
      },
      "execution_count": 136,
      "outputs": [
        {
          "output_type": "stream",
          "name": "stdout",
          "text": [
            "313/313 [==============================] - 1s 2ms/step\n"
          ]
        }
      ]
    },
    {
      "cell_type": "markdown",
      "source": [
        "## 3.1. Exercise: Metrics\n",
        "please review the common classification metrics (accuracy, precision, recall, F1) for the complete model (not per class).\n",
        "\n",
        "Hints:\n",
        "* use macro averaging\n",
        "* you have to import the right functions from [sklearn.metrics](https://scikit-learn.org/stable/modules/model_evaluation.html)\n"
      ],
      "metadata": {
        "id": "RWJ-PH_iMs9K"
      }
    },
    {
      "cell_type": "code",
      "source": [
        "from sklearn.metrics import classification_report"
      ],
      "metadata": {
        "id": "5sKm5zHSMZ_x"
      },
      "execution_count": 137,
      "outputs": []
    },
    {
      "cell_type": "code",
      "source": [
        "report = classification_report(Y_test_dense, preds, output_dict=True)\n",
        "print(\"Accuracy:\", report[\"accuracy\"])\n",
        "print(\"Precision:\", report[\"macro avg\"][\"precision\"])\n",
        "print(\"Recall:\", report[\"macro avg\"][\"recall\"])\n",
        "print(\"F1:\", report[\"macro avg\"][\"f1-score\"])"
      ],
      "metadata": {
        "id": "I3_9wgDREUna",
        "colab": {
          "base_uri": "https://localhost:8080/"
        },
        "outputId": "4ea9c983-8bbf-4412-c44f-ac4bb8681aeb"
      },
      "execution_count": 140,
      "outputs": [
        {
          "output_type": "stream",
          "name": "stdout",
          "text": [
            "Accuracy: 0.726\n",
            "Precision: 0.7242974926344107\n",
            "Recall: 0.7259999999999999\n",
            "F1: 0.7245676945927894\n"
          ]
        }
      ]
    },
    {
      "cell_type": "markdown",
      "source": [
        "\n",
        "## 3.2. Exercise: Confusion matrix\n",
        "Calculate the confusion matrix and display the results in a heatmap (with decimal values).\n",
        "\n",
        "Hints:\n",
        "* you have to do the imports this time too, e.g. from [sklearn.metrics](https://scikit-learn.org/stable/modules/model_evaluation.html) and the [heatmap function](https://seaborn.pydata.org/generated/seaborn.heatmap.html) of [seaborn](https://seaborn.pydata.org/)\n",
        "* for displaying the decimal values, you have to turn annot=True and define fmt='d' in the heatmap function of seaborn"
      ],
      "metadata": {
        "id": "ECHguBFtGL7f"
      }
    },
    {
      "cell_type": "code",
      "source": [
        "from sklearn.metrics import confusion_matrix\n",
        "import seaborn as sns"
      ],
      "metadata": {
        "id": "SIi2VzMBO3yD"
      },
      "execution_count": 142,
      "outputs": []
    },
    {
      "cell_type": "code",
      "metadata": {
        "id": "cdqODx92Svw7",
        "colab": {
          "base_uri": "https://localhost:8080/",
          "height": 847
        },
        "outputId": "ffafeec4-cee3-4934-f8f4-07c8cb638fa2"
      },
      "source": [
        "conf = confusion_matrix(Y_test_dense, preds)\n",
        "plt.figure(figsize=(10,10))\n",
        "sns.heatmap(conf, annot=True, fmt=\"d\")"
      ],
      "execution_count": 144,
      "outputs": [
        {
          "output_type": "execute_result",
          "data": {
            "text/plain": [
              "<Axes: >"
            ]
          },
          "metadata": {},
          "execution_count": 144
        },
        {
          "output_type": "display_data",
          "data": {
            "text/plain": [
              "<Figure size 1000x1000 with 2 Axes>"
            ],
            "image/png": "[encoded data removed]"
          },
          "metadata": {}
        }
      ]
    }
  ]
}
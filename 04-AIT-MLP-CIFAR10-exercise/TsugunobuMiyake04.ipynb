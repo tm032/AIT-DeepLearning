{
  "nbformat": 4,
  "nbformat_minor": 0,
  "metadata": {
    "anaconda-cloud": {},
    "kernelspec": {
      "display_name": "Python 3",
      "language": "python",
      "name": "python3"
    },
    "language_info": {
      "codemirror_mode": {
        "name": "ipython",
        "version": 3
      },
      "file_extension": ".py",
      "mimetype": "text/x-python",
      "name": "python",
      "nbconvert_exporter": "python",
      "pygments_lexer": "ipython3",
      "version": "3.6.6"
    },
    "colab": {
      "provenance": []
    },
    "accelerator": "GPU"
  },
  "cells": [
    {
      "cell_type": "markdown",
      "metadata": {
        "id": "cW-EyI5Lxpqi"
      },
      "source": [
        "# Copyright\n",
        "\n",
        "<PRE>\n",
        "Copyright (c) 2024 Bálint Gyires-Tóth - All Rights Reserved\n",
        "You may use and modify this code for research and development purpuses.\n",
        "Using this code for educational purposes (self-paced or instructor led) without the permission of the author is prohibited.\n",
        "</PRE>"
      ]
    },
    {
      "cell_type": "markdown",
      "source": [
        "# Example of data exploration, modeling, regulartion and prediction\n",
        "Our exercise today involves loading a standard dataset using TensorFlow Keras API, exploring the data, building a simple neural network, and evaluating the effects of basic methods (activation functions, regularization, weight initialization, etc.). We then perform predictions on the test set and inspect the results."
      ],
      "metadata": {
        "id": "3EX4cCa4WKJu"
      }
    },
    {
      "cell_type": "markdown",
      "source": [
        "# 1. Data\n",
        "The dataset we will use is the well-known CIFAR10 (Canadian Institute For Advanced Research). Explore the details on the Keras website first: https://keras.io/api/datasets/cifar10/\n",
        "\n",
        "After you explored the basic features of the data, let's load it into the memory and explore the shapes:"
      ],
      "metadata": {
        "id": "yY9fztIeWIKt"
      }
    },
    {
      "cell_type": "code",
      "source": [
        "from tensorflow.keras.datasets import cifar10\n",
        "from tensorflow.keras.utils import to_categorical\n",
        "import numpy as np"
      ],
      "metadata": {
        "id": "giRZKTjzX_7l"
      },
      "execution_count": 1,
      "outputs": []
    },
    {
      "cell_type": "code",
      "source": [
        "(X_train, Y_train), (X_test, Y_test) = cifar10.load_data()"
      ],
      "metadata": {
        "id": "bez7q0eiWQCK",
        "colab": {
          "base_uri": "https://localhost:8080/"
        },
        "outputId": "f87b5fe3-560c-4404-aed1-25e6b6796ba8"
      },
      "execution_count": 2,
      "outputs": [
        {
          "output_type": "stream",
          "name": "stdout",
          "text": [
            "Downloading data from https://www.cs.toronto.edu/~kriz/cifar-10-python.tar.gz\n",
            "170498071/170498071 [==============================] - 6s 0us/step\n"
          ]
        }
      ]
    },
    {
      "cell_type": "code",
      "source": [
        "print(X_train.shape)\n",
        "print(X_test.shape)\n",
        "print(Y_train.shape)\n",
        "print(Y_test.shape)"
      ],
      "metadata": {
        "id": "2tJoRq5wXywi",
        "colab": {
          "base_uri": "https://localhost:8080/"
        },
        "outputId": "16cbb9f1-07fb-4dbe-dbd6-6604a68ec550"
      },
      "execution_count": 3,
      "outputs": [
        {
          "output_type": "stream",
          "name": "stdout",
          "text": [
            "(50000, 32, 32, 3)\n",
            "(10000, 32, 32, 3)\n",
            "(50000, 1)\n",
            "(10000, 1)\n"
          ]
        }
      ]
    },
    {
      "cell_type": "markdown",
      "source": [
        "## 1.1. Exercise\n",
        "Display the first ten images of the training data. Hints:\n",
        "* Axis 0 refers to the separate images, e.g. X_train[0]\n",
        "* You can use the [Matplotlib Pyplot imshow function](https://matplotlib.org/stable/api/_as_gen/matplotlib.pyplot.imshow.html) for displaying the image. Just don't forget to import Plotly first!\n",
        "* A corresponding example, but you have to modify the code for your purpose: https://stackoverflow.com/questions/46615554/how-to-display-multiple-images-in-one-figure-correctly"
      ],
      "metadata": {
        "id": "zTCSGFyDlNvf"
      }
    },
    {
      "cell_type": "code",
      "source": [
        "import matplotlib.pyplot as plt\n",
        "\n",
        "fig = plt.figure(figsize=(10, 8))\n",
        "columns = 4\n",
        "rows = 3\n",
        "for i in range(0, columns*rows):\n",
        "    if i >= 10:\n",
        "      break\n",
        "    img = X_train[i]\n",
        "    fig.add_subplot(rows, columns, i + 1)\n",
        "    plt.imshow(img)\n",
        "plt.show()"
      ],
      "metadata": {
        "id": "hIQhHTppmBdO",
        "colab": {
          "base_uri": "https://localhost:8080/",
          "height": 666
        },
        "outputId": "3646eb72-047f-4d99-c0b7-a1979460a1d8"
      },
      "execution_count": null,
      "outputs": [
        {
          "output_type": "display_data",
          "data": {
            "text/plain": [
              "<Figure size 1000x800 with 10 Axes>"
            ],
            "image/png": "[encoded data removed]"
          },
          "metadata": {}
        }
      ]
    },
    {
      "cell_type": "markdown",
      "source": [
        "Print the corresponding labels of the displayed images from the target variable (Y_train):"
      ],
      "metadata": {
        "id": "FAQkUWlmm-bc"
      }
    },
    {
      "cell_type": "code",
      "source": [
        "print(Y_train[:10])"
      ],
      "metadata": {
        "id": "AkOrWzghnJ78",
        "colab": {
          "base_uri": "https://localhost:8080/"
        },
        "outputId": "733d269c-0c96-4521-951b-2a97586a99b9"
      },
      "execution_count": null,
      "outputs": [
        {
          "output_type": "stream",
          "name": "stdout",
          "text": [
            "[[6]\n",
            " [9]\n",
            " [9]\n",
            " [4]\n",
            " [1]\n",
            " [1]\n",
            " [2]\n",
            " [7]\n",
            " [8]\n",
            " [3]]\n"
          ]
        }
      ]
    },
    {
      "cell_type": "markdown",
      "source": [
        "## 1.2. Exercise\n",
        "We will train a Multi-Layer Perceptron (MLP), which requires a 2 dimensional input: 0th axis refers to the datapoints (i.e. images), the 1th dimens to the input. As images are 3 dimensional (width, height, color channels), you have to reshape the images into vectors. We also call this flattening.\n",
        "\n",
        "In order to do so, calculate the size of the equivalent 1D vector of the image:"
      ],
      "metadata": {
        "id": "VX24g5FstsRU"
      }
    },
    {
      "cell_type": "code",
      "source": [
        "flattened_dim = X_train.shape[1] * X_train.shape[2] * X_train.shape[3]"
      ],
      "metadata": {
        "id": "hdoMyxHzuXZG"
      },
      "execution_count": 4,
      "outputs": []
    },
    {
      "cell_type": "markdown",
      "source": [
        "After you calculated it, we can reshape the images, and covert the integer arrays into float arrays -- which are needed for the neural networks as input. Hint:\n",
        "* in the [reshape() function of Numpy](https://www.w3schools.com/python/numpy/numpy_array_reshape.asp) you can use -1 for one axis, to automatically calculate that value."
      ],
      "metadata": {
        "id": "WbqXJUSFubeC"
      }
    },
    {
      "cell_type": "code",
      "source": [
        "# reshape 3D tensors to 2D tensors\n",
        "X_train = X_train.reshape(-1, flattened_dim)\n",
        "X_test = X_test.reshape(-1, flattened_dim)\n",
        "\n",
        "# it is in int8 format, the neural network requires float32\n",
        "X_train = X_train.astype(np.float32)\n",
        "X_test = X_test.astype(np.float32)"
      ],
      "metadata": {
        "id": "vukOcBM0XzSj"
      },
      "execution_count": 5,
      "outputs": []
    },
    {
      "cell_type": "markdown",
      "source": [
        "## 1.3. Exercise\n",
        "As the next step, let's split the training data into training and validation data. 80% of the original training data should be the final training data, and 20% the validation.\n",
        "You should use Numpy indexing to select the first 80% of X_train as final X_train, and the last 20% as X_valid. Hints:\n",
        "* https://datascienceparichay.com/article/numpy-array-first-n-rows/\n",
        "* https://datascienceparichay.com/article/numpy-array-last-n-rows/"
      ],
      "metadata": {
        "id": "DO79AdIdvVfD"
      }
    },
    {
      "cell_type": "code",
      "source": [
        "train_ratio  = 0.8\n",
        "train_length = len(X_train) # length of the training data\n",
        "train_split  = int(train_length * train_ratio) # where to split the training and validation data\n",
        "X_valid, Y_valid = X_train[train_split:], Y_train[train_split:]\n",
        "X_train, Y_train = X_train[:train_split], Y_train[:train_split]"
      ],
      "metadata": {
        "id": "mRwuWxxIxLgN"
      },
      "execution_count": 6,
      "outputs": []
    },
    {
      "cell_type": "markdown",
      "source": [
        "## 1.4. Exercise\n",
        "As the last step of input data preparation, the data should be standardized. Calculate the mean and variance of the training data (elementvise -- so for each value of the flattened image you should get a mean and variance for the training data along 0th axis). Hint:\n",
        "* https://stackoverflow.com/questions/70626231/how-to-calculate-mean-variance-standard-deviation-per-index-of-array"
      ],
      "metadata": {
        "id": "z05y_QWDxWER"
      }
    },
    {
      "cell_type": "code",
      "source": [
        "mean = np.mean(X_train, axis=0)\n",
        "std  = np.std(X_train, axis=0)"
      ],
      "metadata": {
        "id": "TSZbvWCBx8Ea"
      },
      "execution_count": 7,
      "outputs": []
    },
    {
      "cell_type": "markdown",
      "source": [
        "Next, use the resulting values to standardize the training, validation and test data by substracting the mean and dividing the result with the standard deviation."
      ],
      "metadata": {
        "id": "6WRHKkkjyN1S"
      }
    },
    {
      "cell_type": "code",
      "source": [
        "X_train = (X_train - mean) / std\n",
        "X_valid = (X_valid - mean) / std\n",
        "X_test  = (X_test - mean) / std"
      ],
      "metadata": {
        "id": "2ESLP1EIyB2J"
      },
      "execution_count": 8,
      "outputs": []
    },
    {
      "cell_type": "markdown",
      "source": [
        "## 1.5. Exercise\n",
        "And as the last step, convert the dense representation of the classes (i.e. 0,1,2,3...9) to one-hot encoding (0 = [1 0 0 0 0 0 0 0 0 0], 1 = [0 1 0 0 0 0 0 0 0 0] ... 9 = [0 0 0 0 0 0 0 0 0 1]). To do this, first, calculate the number of unique elements in the target training data. Hints:\n",
        "* use the [unique() function](https://numpy.org/doc/stable/reference/generated/numpy.unique.html) of Numpy to list the unique elements\n",
        "* you can count the number of elements in a list with the [len() function](https://www.w3schools.com/python/ref_func_len.asp)"
      ],
      "metadata": {
        "id": "ooHCnUin7r4o"
      }
    },
    {
      "cell_type": "code",
      "source": [
        "nb_classes = len(np.unique(Y_train))"
      ],
      "metadata": {
        "id": "i0LAO9cs8KEE"
      },
      "execution_count": 9,
      "outputs": []
    },
    {
      "cell_type": "markdown",
      "source": [
        "Doublecheck, if the same number of classes exists in the validation and test target data:"
      ],
      "metadata": {
        "id": "BvM6XhGe8JU9"
      }
    },
    {
      "cell_type": "code",
      "source": [
        "print(\"Validation data has the same number of classes, as the training data:\", nb_classes == len(np.unique(Y_valid)))\n",
        "print(\"Test data has the same number of classes, as the training data:\", nb_classes == len(np.unique(Y_test)))"
      ],
      "metadata": {
        "id": "eZFNSsyx_Py2",
        "colab": {
          "base_uri": "https://localhost:8080/"
        },
        "outputId": "570eccce-fbac-41b8-d108-652e10216dd0"
      },
      "execution_count": 10,
      "outputs": [
        {
          "output_type": "stream",
          "name": "stdout",
          "text": [
            "Validation data has the same number of classes, as the training data: True\n",
            "Test data has the same number of classes, as the training data: True\n"
          ]
        }
      ]
    },
    {
      "cell_type": "markdown",
      "source": [
        "And convert the dense representation into one-hot encoding. Hint:\n",
        "* use the [to_categorical function](https://www.tensorflow.org/api_docs/python/tf/keras/utils/to_categorical) with the calculated nb_classes\n"
      ],
      "metadata": {
        "id": "mJM-iBmR8dLe"
      }
    },
    {
      "cell_type": "code",
      "source": [
        "Y_train = to_categorical(Y_train, num_classes=nb_classes)\n",
        "Y_valid = to_categorical(Y_valid, num_classes=nb_classes)\n",
        "Y_test  = to_categorical(Y_test, num_classes=nb_classes)"
      ],
      "metadata": {
        "id": "xwZ4OJ6I8lba"
      },
      "execution_count": 11,
      "outputs": []
    },
    {
      "cell_type": "markdown",
      "source": [
        "## Final check of data preparation\n",
        "Now, lets check the shapes and mean and standard deviation of the training, validation and test data."
      ],
      "metadata": {
        "id": "LshN2OSsv3TZ"
      }
    },
    {
      "cell_type": "code",
      "source": [
        "print(\"Shapes of the training, validation and test input data:\", X_train.shape, X_valid.shape, X_test.shape)\n",
        "print(\"Shapes of the training, validation and test output data:\", Y_train.shape, Y_valid.shape, Y_test.shape)\n",
        "print(\"Mean values of the training, validation and test input data:\", X_train.mean(), X_valid.mean(), X_test.mean())\n",
        "print(\"Standard deviation of the training, validation and test input data:\", X_train.std(), X_valid.std(), X_test.std())"
      ],
      "metadata": {
        "id": "O_jdJVcvX0vi",
        "colab": {
          "base_uri": "https://localhost:8080/"
        },
        "outputId": "a078cf72-5a21-46fc-e454-ce5c67b7b8dc"
      },
      "execution_count": 12,
      "outputs": [
        {
          "output_type": "stream",
          "name": "stdout",
          "text": [
            "Shapes of the training, validation and test input data: (40000, 3072) (10000, 3072) (10000, 3072)\n",
            "Shapes of the training, validation and test output data: (40000, 10) (10000, 10) (10000, 10)\n",
            "Mean values of the training, validation and test input data: -2.4725992e-09 0.0023437182 0.013331188\n",
            "Standard deviation of the training, validation and test input data: 1.0000038 0.99656224 0.9978297\n"
          ]
        }
      ]
    },
    {
      "cell_type": "markdown",
      "source": [
        "Don't worry, if the mean and standard deviation of the validation and test data are not exactly 0 and 1, but these might be very mear to it (e.g. 0.01 mean, 0.99 variance)."
      ],
      "metadata": {
        "id": "5GtAOOoezmZY"
      }
    },
    {
      "cell_type": "markdown",
      "metadata": {
        "id": "cJ14oyZExpqj"
      },
      "source": [
        "# 2. Training"
      ]
    },
    {
      "cell_type": "markdown",
      "metadata": {
        "id": "s4ZXYRMBxpql"
      },
      "source": [
        "Let us begin with a simple example of creating a small neural network without regularization and training it with actual data. The purpose of this is to provide you with an example as to how to proceed with the next exercise."
      ]
    },
    {
      "cell_type": "code",
      "source": [
        "# imports\n",
        "import numpy as np\n",
        "import matplotlib.pyplot as plt\n",
        "from tensorflow.keras.models import Sequential\n",
        "from tensorflow.keras.layers import Dense, Embedding, Flatten, Dropout\n",
        "from tensorflow.keras.initializers import HeNormal\n",
        "from tensorflow.keras.callbacks import EarlyStopping"
      ],
      "metadata": {
        "id": "6-8Q6ll7ZDgq"
      },
      "execution_count": 13,
      "outputs": []
    },
    {
      "cell_type": "code",
      "source": [
        "# model definition\n",
        "model = Sequential()\n",
        "model.add(Dense(128, activation='tanh', input_shape=(flattened_dim,)))\n",
        "model.add(Dense(128, activation='tanh'))\n",
        "model.add(Dense(nb_classes, activation='softmax'))\n",
        "\n",
        "# loss function and optimizer\n",
        "model.compile(loss='categorical_crossentropy', optimizer='adam', metrics=['accuracy'])"
      ],
      "metadata": {
        "id": "pke6w3CD8DHp"
      },
      "execution_count": 14,
      "outputs": []
    },
    {
      "cell_type": "code",
      "metadata": {
        "id": "CZbOR76QxprC",
        "colab": {
          "base_uri": "https://localhost:8080/"
        },
        "outputId": "24b92bd2-6efc-436e-91ab-3addb0c75e49"
      },
      "source": [
        "# training\n",
        "network_history = model.fit(X_train, Y_train,\n",
        "                            validation_data=(X_valid,Y_valid),\n",
        "                            batch_size=128,\n",
        "                            epochs=40,\n",
        "                            verbose=1)"
      ],
      "execution_count": 15,
      "outputs": [
        {
          "output_type": "stream",
          "name": "stdout",
          "text": [
            "Epoch 1/40\n",
            "313/313 [==============================] - 4s 6ms/step - loss: 1.8176 - accuracy: 0.3632 - val_loss: 1.7722 - val_accuracy: 0.3827\n",
            "Epoch 2/40\n",
            "313/313 [==============================] - 1s 4ms/step - loss: 1.6949 - accuracy: 0.4095 - val_loss: 1.7370 - val_accuracy: 0.3956\n",
            "Epoch 3/40\n",
            "313/313 [==============================] - 1s 4ms/step - loss: 1.6429 - accuracy: 0.4294 - val_loss: 1.6992 - val_accuracy: 0.4140\n",
            "Epoch 4/40\n",
            "313/313 [==============================] - 1s 5ms/step - loss: 1.5919 - accuracy: 0.4505 - val_loss: 1.6876 - val_accuracy: 0.4107\n",
            "Epoch 5/40\n",
            "313/313 [==============================] - 2s 6ms/step - loss: 1.5651 - accuracy: 0.4568 - val_loss: 1.6621 - val_accuracy: 0.4254\n",
            "Epoch 6/40\n",
            "313/313 [==============================] - 1s 5ms/step - loss: 1.5284 - accuracy: 0.4694 - val_loss: 1.6640 - val_accuracy: 0.4230\n",
            "Epoch 7/40\n",
            "313/313 [==============================] - 2s 5ms/step - loss: 1.5070 - accuracy: 0.4741 - val_loss: 1.6443 - val_accuracy: 0.4315\n",
            "Epoch 8/40\n",
            "313/313 [==============================] - 1s 5ms/step - loss: 1.4761 - accuracy: 0.4888 - val_loss: 1.6475 - val_accuracy: 0.4309\n",
            "Epoch 9/40\n",
            "313/313 [==============================] - 1s 5ms/step - loss: 1.4524 - accuracy: 0.4997 - val_loss: 1.6214 - val_accuracy: 0.4446\n",
            "Epoch 10/40\n",
            "313/313 [==============================] - 1s 4ms/step - loss: 1.4310 - accuracy: 0.5045 - val_loss: 1.6229 - val_accuracy: 0.4351\n",
            "Epoch 11/40\n",
            "313/313 [==============================] - 1s 4ms/step - loss: 1.4055 - accuracy: 0.5121 - val_loss: 1.6132 - val_accuracy: 0.4527\n",
            "Epoch 12/40\n",
            "313/313 [==============================] - 1s 5ms/step - loss: 1.3778 - accuracy: 0.5209 - val_loss: 1.6174 - val_accuracy: 0.4414\n",
            "Epoch 13/40\n",
            "313/313 [==============================] - 2s 6ms/step - loss: 1.3602 - accuracy: 0.5307 - val_loss: 1.6259 - val_accuracy: 0.4431\n",
            "Epoch 14/40\n",
            "313/313 [==============================] - 2s 5ms/step - loss: 1.3377 - accuracy: 0.5380 - val_loss: 1.6015 - val_accuracy: 0.4496\n",
            "Epoch 15/40\n",
            "313/313 [==============================] - 2s 5ms/step - loss: 1.3194 - accuracy: 0.5437 - val_loss: 1.5991 - val_accuracy: 0.4527\n",
            "Epoch 16/40\n",
            "313/313 [==============================] - 2s 5ms/step - loss: 1.2938 - accuracy: 0.5508 - val_loss: 1.6105 - val_accuracy: 0.4487\n",
            "Epoch 17/40\n",
            "313/313 [==============================] - 1s 4ms/step - loss: 1.2714 - accuracy: 0.5601 - val_loss: 1.6183 - val_accuracy: 0.4470\n",
            "Epoch 18/40\n",
            "313/313 [==============================] - 1s 4ms/step - loss: 1.2574 - accuracy: 0.5632 - val_loss: 1.6118 - val_accuracy: 0.4517\n",
            "Epoch 19/40\n",
            "313/313 [==============================] - 1s 5ms/step - loss: 1.2331 - accuracy: 0.5749 - val_loss: 1.6159 - val_accuracy: 0.4510\n",
            "Epoch 20/40\n",
            "313/313 [==============================] - 1s 4ms/step - loss: 1.2152 - accuracy: 0.5770 - val_loss: 1.6126 - val_accuracy: 0.4595\n",
            "Epoch 21/40\n",
            "313/313 [==============================] - 2s 6ms/step - loss: 1.1957 - accuracy: 0.5874 - val_loss: 1.6175 - val_accuracy: 0.4564\n",
            "Epoch 22/40\n",
            "313/313 [==============================] - 2s 6ms/step - loss: 1.1795 - accuracy: 0.5902 - val_loss: 1.6406 - val_accuracy: 0.4534\n",
            "Epoch 23/40\n",
            "313/313 [==============================] - 1s 4ms/step - loss: 1.1601 - accuracy: 0.5996 - val_loss: 1.6323 - val_accuracy: 0.4499\n",
            "Epoch 24/40\n",
            "313/313 [==============================] - 2s 5ms/step - loss: 1.1430 - accuracy: 0.6027 - val_loss: 1.6398 - val_accuracy: 0.4565\n",
            "Epoch 25/40\n",
            "313/313 [==============================] - 2s 5ms/step - loss: 1.1251 - accuracy: 0.6110 - val_loss: 1.6576 - val_accuracy: 0.4519\n",
            "Epoch 26/40\n",
            "313/313 [==============================] - 1s 4ms/step - loss: 1.1040 - accuracy: 0.6184 - val_loss: 1.6530 - val_accuracy: 0.4594\n",
            "Epoch 27/40\n",
            "313/313 [==============================] - 1s 4ms/step - loss: 1.0920 - accuracy: 0.6214 - val_loss: 1.6704 - val_accuracy: 0.4508\n",
            "Epoch 28/40\n",
            "313/313 [==============================] - 1s 5ms/step - loss: 1.0697 - accuracy: 0.6291 - val_loss: 1.7001 - val_accuracy: 0.4439\n",
            "Epoch 29/40\n",
            "313/313 [==============================] - 2s 6ms/step - loss: 1.0589 - accuracy: 0.6349 - val_loss: 1.6804 - val_accuracy: 0.4577\n",
            "Epoch 30/40\n",
            "313/313 [==============================] - 2s 6ms/step - loss: 1.0354 - accuracy: 0.6417 - val_loss: 1.7082 - val_accuracy: 0.4502\n",
            "Epoch 31/40\n",
            "313/313 [==============================] - 2s 5ms/step - loss: 1.0285 - accuracy: 0.6439 - val_loss: 1.7060 - val_accuracy: 0.4557\n",
            "Epoch 32/40\n",
            "313/313 [==============================] - 1s 5ms/step - loss: 1.0118 - accuracy: 0.6499 - val_loss: 1.7209 - val_accuracy: 0.4495\n",
            "Epoch 33/40\n",
            "313/313 [==============================] - 1s 5ms/step - loss: 0.9875 - accuracy: 0.6610 - val_loss: 1.7193 - val_accuracy: 0.4524\n",
            "Epoch 34/40\n",
            "313/313 [==============================] - 1s 5ms/step - loss: 0.9746 - accuracy: 0.6636 - val_loss: 1.7258 - val_accuracy: 0.4491\n",
            "Epoch 35/40\n",
            "313/313 [==============================] - 1s 4ms/step - loss: 0.9638 - accuracy: 0.6659 - val_loss: 1.7636 - val_accuracy: 0.4505\n",
            "Epoch 36/40\n",
            "313/313 [==============================] - 1s 4ms/step - loss: 0.9518 - accuracy: 0.6709 - val_loss: 1.7565 - val_accuracy: 0.4568\n",
            "Epoch 37/40\n",
            "313/313 [==============================] - 2s 5ms/step - loss: 0.9301 - accuracy: 0.6821 - val_loss: 1.7745 - val_accuracy: 0.4570\n",
            "Epoch 38/40\n",
            "313/313 [==============================] - 2s 6ms/step - loss: 0.9260 - accuracy: 0.6811 - val_loss: 1.7893 - val_accuracy: 0.4450\n",
            "Epoch 39/40\n",
            "313/313 [==============================] - 1s 4ms/step - loss: 0.9140 - accuracy: 0.6837 - val_loss: 1.8025 - val_accuracy: 0.4442\n",
            "Epoch 40/40\n",
            "313/313 [==============================] - 1s 4ms/step - loss: 0.8938 - accuracy: 0.6909 - val_loss: 1.8070 - val_accuracy: 0.4476\n"
          ]
        }
      ]
    },
    {
      "cell_type": "markdown",
      "metadata": {
        "id": "uFqhzV85xprJ"
      },
      "source": [
        "Let's plot the training and validation loss and accuracy curves:"
      ]
    },
    {
      "cell_type": "code",
      "metadata": {
        "id": "BYmXGkLCxprK",
        "colab": {
          "base_uri": "https://localhost:8080/",
          "height": 881
        },
        "outputId": "ba5aec64-e99f-4255-e932-7f67efdcfe15"
      },
      "source": [
        "def plot_history(network_history):\n",
        "    plt.figure()\n",
        "    plt.xlabel('Epochs')\n",
        "    plt.ylabel('Loss')\n",
        "    plt.plot(network_history.history['loss'])\n",
        "    plt.plot(network_history.history['val_loss'])\n",
        "    plt.legend(['Training', 'Validation'])\n",
        "\n",
        "    plt.figure()\n",
        "    plt.xlabel('Epochs')\n",
        "    plt.ylabel('Accuracy')\n",
        "    plt.plot(network_history.history['accuracy'])\n",
        "    plt.plot(network_history.history['val_accuracy'])\n",
        "    plt.legend(['Training', 'Validation'], loc='lower right')\n",
        "    plt.show()\n",
        "\n",
        "plot_history(network_history)"
      ],
      "execution_count": 16,
      "outputs": [
        {
          "output_type": "display_data",
          "data": {
            "text/plain": [
              "<Figure size 640x480 with 1 Axes>"
            ],
            "image/png": "[encoded data removed]"
          },
          "metadata": {}
        },
        {
          "output_type": "display_data",
          "data": {
            "text/plain": [
              "<Figure size 640x480 with 1 Axes>"
            ],
            "image/png": "[encoded data removed]"
          },
          "metadata": {}
        }
      ]
    },
    {
      "cell_type": "markdown",
      "source": [
        "What do you think? Does it overfit?\n",
        "\n",
        "Notes by me: From the plot, it is clear that only the training accuracy has improved over many epochs, showing that the model is overfitted."
      ],
      "metadata": {
        "id": "tgG7QeXF-dx6"
      }
    },
    {
      "cell_type": "markdown",
      "metadata": {
        "id": "_Q9rIeBBxprO"
      },
      "source": [
        "# Inspecting the model"
      ]
    },
    {
      "cell_type": "code",
      "metadata": {
        "id": "6r2AmmoMxprP",
        "colab": {
          "base_uri": "https://localhost:8080/"
        },
        "outputId": "2b718fb5-7f9b-4f1d-8708-dee28d417582"
      },
      "source": [
        "model.summary()"
      ],
      "execution_count": 17,
      "outputs": [
        {
          "output_type": "stream",
          "name": "stdout",
          "text": [
            "Model: \"sequential\"\n",
            "_________________________________________________________________\n",
            " Layer (type)                Output Shape              Param #   \n",
            "=================================================================\n",
            " dense (Dense)               (None, 128)               393344    \n",
            "                                                                 \n",
            " dense_1 (Dense)             (None, 128)               16512     \n",
            "                                                                 \n",
            " dense_2 (Dense)             (None, 10)                1290      \n",
            "                                                                 \n",
            "=================================================================\n",
            "Total params: 411146 (1.57 MB)\n",
            "Trainable params: 411146 (1.57 MB)\n",
            "Non-trainable params: 0 (0.00 Byte)\n",
            "_________________________________________________________________\n"
          ]
        }
      ]
    },
    {
      "cell_type": "code",
      "metadata": {
        "id": "D3-bVDVuxprS",
        "colab": {
          "base_uri": "https://localhost:8080/"
        },
        "outputId": "9eddcc90-5567-45a6-f633-c06957e70e94"
      },
      "source": [
        "print('Input: ', model.input)"
      ],
      "execution_count": 18,
      "outputs": [
        {
          "output_type": "stream",
          "name": "stdout",
          "text": [
            "Input:  KerasTensor(type_spec=TensorSpec(shape=(None, 3072), dtype=tf.float32, name='dense_input'), name='dense_input', description=\"created by layer 'dense_input'\")\n"
          ]
        }
      ]
    },
    {
      "cell_type": "code",
      "metadata": {
        "id": "Da2OJ3DmxprX",
        "colab": {
          "base_uri": "https://localhost:8080/"
        },
        "outputId": "d2c569a1-0da4-4096-97f1-87d51595e34e"
      },
      "source": [
        "print('Layers:\\n')\n",
        "for layer in model.layers:\n",
        "    print(\"Layer's name: \", layer.name, ', trainable: ', layer.trainable)\n",
        "    print(layer.get_config(),'\\n')"
      ],
      "execution_count": 19,
      "outputs": [
        {
          "output_type": "stream",
          "name": "stdout",
          "text": [
            "Layers:\n",
            "\n",
            "Layer's name:  dense , trainable:  True\n",
            "{'name': 'dense', 'trainable': True, 'dtype': 'float32', 'batch_input_shape': (None, 3072), 'units': 128, 'activation': 'tanh', 'use_bias': True, 'kernel_initializer': {'module': 'keras.initializers', 'class_name': 'GlorotUniform', 'config': {'seed': None}, 'registered_name': None}, 'bias_initializer': {'module': 'keras.initializers', 'class_name': 'Zeros', 'config': {}, 'registered_name': None}, 'kernel_regularizer': None, 'bias_regularizer': None, 'activity_regularizer': None, 'kernel_constraint': None, 'bias_constraint': None} \n",
            "\n",
            "Layer's name:  dense_1 , trainable:  True\n",
            "{'name': 'dense_1', 'trainable': True, 'dtype': 'float32', 'units': 128, 'activation': 'tanh', 'use_bias': True, 'kernel_initializer': {'module': 'keras.initializers', 'class_name': 'GlorotUniform', 'config': {'seed': None}, 'registered_name': None}, 'bias_initializer': {'module': 'keras.initializers', 'class_name': 'Zeros', 'config': {}, 'registered_name': None}, 'kernel_regularizer': None, 'bias_regularizer': None, 'activity_regularizer': None, 'kernel_constraint': None, 'bias_constraint': None} \n",
            "\n",
            "Layer's name:  dense_2 , trainable:  True\n",
            "{'name': 'dense_2', 'trainable': True, 'dtype': 'float32', 'units': 10, 'activation': 'softmax', 'use_bias': True, 'kernel_initializer': {'module': 'keras.initializers', 'class_name': 'GlorotUniform', 'config': {'seed': None}, 'registered_name': None}, 'bias_initializer': {'module': 'keras.initializers', 'class_name': 'Zeros', 'config': {}, 'registered_name': None}, 'kernel_regularizer': None, 'bias_regularizer': None, 'activity_regularizer': None, 'kernel_constraint': None, 'bias_constraint': None} \n",
            "\n"
          ]
        }
      ]
    },
    {
      "cell_type": "code",
      "metadata": {
        "id": "AtVX3M3lxprc",
        "colab": {
          "base_uri": "https://localhost:8080/"
        },
        "outputId": "dc165b44-ecce-41f1-9184-de21678d8842"
      },
      "source": [
        "print('Output: ', model.output)"
      ],
      "execution_count": 20,
      "outputs": [
        {
          "output_type": "stream",
          "name": "stdout",
          "text": [
            "Output:  KerasTensor(type_spec=TensorSpec(shape=(None, 10), dtype=tf.float32, name=None), name='dense_2/Softmax:0', description=\"created by layer 'dense_2'\")\n"
          ]
        }
      ]
    },
    {
      "cell_type": "markdown",
      "source": [
        "## 2.1. Exercise\n",
        "Introduce [early stopping](https://www.tensorflow.org/api_docs/python/tf/keras/callbacks/EarlyStopping) and [dropout](https://www.tensorflow.org/api_docs/python/tf/keras/layers/Dropout) with a rate between 0.1..0.5. Tips:\n",
        "\n",
        "* Insert the dropout layer between the two Dense layers.\n",
        "* Set the patience of early stopping to 5.\n",
        "* Set the number of epochs to a very high number.\n",
        "* Don't forget to restore best weights after early stopping.\n",
        "* And also set early stopping to monitor validation accuracy (the default value is validation loss -- which is categorical crossentropy now).\n",
        "\n",
        "Compile and train the model. Attempt to increase the validation accuracy as much as possible by making changes to the dropout rate. Inspect the effects of the modifications."
      ],
      "metadata": {
        "id": "E-hHfs9qA_iO"
      }
    },
    {
      "cell_type": "code",
      "source": [
        "es = EarlyStopping(\n",
        "      monitor='val_accuracy',\n",
        "      patience=5,\n",
        "      min_delta=0.0001,\n",
        "      restore_best_weights=True,\n",
        "    )"
      ],
      "metadata": {
        "id": "NwXrPzOgEBG-"
      },
      "execution_count": 36,
      "outputs": []
    },
    {
      "cell_type": "code",
      "source": [
        "# model definition with dropout\n",
        "dropout_rate = 0.4\n",
        "model = Sequential()\n",
        "model.add(Dense(128, activation='tanh', input_shape=(flattened_dim,)))\n",
        "model.add(Dropout(dropout_rate))\n",
        "model.add(Dense(128, activation='tanh'))\n",
        "model.add(Dense(nb_classes, activation='softmax'))\n",
        "\n",
        "# loss function and optimizer\n",
        "model.compile(loss='categorical_crossentropy', optimizer='adam', metrics=['accuracy'])"
      ],
      "metadata": {
        "id": "7hZEGzj8GFwP"
      },
      "execution_count": 39,
      "outputs": []
    },
    {
      "cell_type": "code",
      "source": [
        "# training with early stopping\n",
        "network_history = model.fit(X_train, Y_train,\n",
        "                            validation_data=(X_valid,Y_valid),\n",
        "                            batch_size=128,\n",
        "                            epochs=100000000000,\n",
        "                            verbose=1,\n",
        "                            callbacks=[es])"
      ],
      "metadata": {
        "id": "GCG54R-vGGWj",
        "colab": {
          "base_uri": "https://localhost:8080/"
        },
        "outputId": "7b60a9f5-5632-419e-b12a-43446288d6b2"
      },
      "execution_count": 40,
      "outputs": [
        {
          "output_type": "stream",
          "name": "stdout",
          "text": [
            "Epoch 1/100000000000\n",
            "313/313 [==============================] - 3s 6ms/step - loss: 1.9160 - accuracy: 0.3252 - val_loss: 1.8026 - val_accuracy: 0.3692\n",
            "Epoch 2/100000000000\n",
            "313/313 [==============================] - 2s 6ms/step - loss: 1.8125 - accuracy: 0.3604 - val_loss: 1.7416 - val_accuracy: 0.3928\n",
            "Epoch 3/100000000000\n",
            "313/313 [==============================] - 2s 5ms/step - loss: 1.7751 - accuracy: 0.3747 - val_loss: 1.7223 - val_accuracy: 0.3964\n",
            "Epoch 4/100000000000\n",
            "313/313 [==============================] - 1s 4ms/step - loss: 1.7451 - accuracy: 0.3891 - val_loss: 1.7070 - val_accuracy: 0.4077\n",
            "Epoch 5/100000000000\n",
            "313/313 [==============================] - 2s 5ms/step - loss: 1.7180 - accuracy: 0.3991 - val_loss: 1.6995 - val_accuracy: 0.4086\n",
            "Epoch 6/100000000000\n",
            "313/313 [==============================] - 2s 5ms/step - loss: 1.6999 - accuracy: 0.4047 - val_loss: 1.6750 - val_accuracy: 0.4169\n",
            "Epoch 7/100000000000\n",
            "313/313 [==============================] - 2s 5ms/step - loss: 1.6798 - accuracy: 0.4137 - val_loss: 1.6680 - val_accuracy: 0.4195\n",
            "Epoch 8/100000000000\n",
            "313/313 [==============================] - 2s 5ms/step - loss: 1.6633 - accuracy: 0.4195 - val_loss: 1.6475 - val_accuracy: 0.4281\n",
            "Epoch 9/100000000000\n",
            "313/313 [==============================] - 2s 5ms/step - loss: 1.6469 - accuracy: 0.4225 - val_loss: 1.6376 - val_accuracy: 0.4263\n",
            "Epoch 10/100000000000\n",
            "313/313 [==============================] - 2s 6ms/step - loss: 1.6418 - accuracy: 0.4272 - val_loss: 1.6334 - val_accuracy: 0.4256\n",
            "Epoch 11/100000000000\n",
            "313/313 [==============================] - 1s 4ms/step - loss: 1.6305 - accuracy: 0.4288 - val_loss: 1.6238 - val_accuracy: 0.4329\n",
            "Epoch 12/100000000000\n",
            "313/313 [==============================] - 2s 5ms/step - loss: 1.6171 - accuracy: 0.4331 - val_loss: 1.6180 - val_accuracy: 0.4345\n",
            "Epoch 13/100000000000\n",
            "313/313 [==============================] - 1s 4ms/step - loss: 1.6044 - accuracy: 0.4371 - val_loss: 1.6159 - val_accuracy: 0.4331\n",
            "Epoch 14/100000000000\n",
            "313/313 [==============================] - 1s 4ms/step - loss: 1.5885 - accuracy: 0.4424 - val_loss: 1.6021 - val_accuracy: 0.4429\n",
            "Epoch 15/100000000000\n",
            "313/313 [==============================] - 2s 5ms/step - loss: 1.5802 - accuracy: 0.4439 - val_loss: 1.5924 - val_accuracy: 0.4474\n",
            "Epoch 16/100000000000\n",
            "313/313 [==============================] - 1s 5ms/step - loss: 1.5747 - accuracy: 0.4469 - val_loss: 1.5778 - val_accuracy: 0.4482\n",
            "Epoch 17/100000000000\n",
            "313/313 [==============================] - 2s 5ms/step - loss: 1.5592 - accuracy: 0.4500 - val_loss: 1.5814 - val_accuracy: 0.4461\n",
            "Epoch 18/100000000000\n",
            "313/313 [==============================] - 2s 6ms/step - loss: 1.5536 - accuracy: 0.4523 - val_loss: 1.5706 - val_accuracy: 0.4571\n",
            "Epoch 19/100000000000\n",
            "313/313 [==============================] - 1s 5ms/step - loss: 1.5468 - accuracy: 0.4536 - val_loss: 1.5662 - val_accuracy: 0.4537\n",
            "Epoch 20/100000000000\n",
            "313/313 [==============================] - 2s 5ms/step - loss: 1.5388 - accuracy: 0.4575 - val_loss: 1.5520 - val_accuracy: 0.4585\n",
            "Epoch 21/100000000000\n",
            "313/313 [==============================] - 2s 5ms/step - loss: 1.5348 - accuracy: 0.4579 - val_loss: 1.5523 - val_accuracy: 0.4575\n",
            "Epoch 22/100000000000\n",
            "313/313 [==============================] - 2s 5ms/step - loss: 1.5281 - accuracy: 0.4625 - val_loss: 1.5469 - val_accuracy: 0.4610\n",
            "Epoch 23/100000000000\n",
            "313/313 [==============================] - 2s 5ms/step - loss: 1.5181 - accuracy: 0.4632 - val_loss: 1.5460 - val_accuracy: 0.4590\n",
            "Epoch 24/100000000000\n",
            "313/313 [==============================] - 1s 5ms/step - loss: 1.5158 - accuracy: 0.4643 - val_loss: 1.5456 - val_accuracy: 0.4591\n",
            "Epoch 25/100000000000\n",
            "313/313 [==============================] - 2s 6ms/step - loss: 1.5099 - accuracy: 0.4657 - val_loss: 1.5407 - val_accuracy: 0.4606\n",
            "Epoch 26/100000000000\n",
            "313/313 [==============================] - 2s 6ms/step - loss: 1.5009 - accuracy: 0.4686 - val_loss: 1.5246 - val_accuracy: 0.4647\n",
            "Epoch 27/100000000000\n",
            "313/313 [==============================] - 1s 4ms/step - loss: 1.4982 - accuracy: 0.4698 - val_loss: 1.5356 - val_accuracy: 0.4597\n",
            "Epoch 28/100000000000\n",
            "313/313 [==============================] - 1s 4ms/step - loss: 1.4931 - accuracy: 0.4725 - val_loss: 1.5347 - val_accuracy: 0.4635\n",
            "Epoch 29/100000000000\n",
            "313/313 [==============================] - 1s 4ms/step - loss: 1.4883 - accuracy: 0.4763 - val_loss: 1.5362 - val_accuracy: 0.4616\n",
            "Epoch 30/100000000000\n",
            "313/313 [==============================] - 1s 5ms/step - loss: 1.4797 - accuracy: 0.4746 - val_loss: 1.5266 - val_accuracy: 0.4706\n",
            "Epoch 31/100000000000\n",
            "313/313 [==============================] - 1s 5ms/step - loss: 1.4749 - accuracy: 0.4774 - val_loss: 1.5314 - val_accuracy: 0.4630\n",
            "Epoch 32/100000000000\n",
            "313/313 [==============================] - 1s 5ms/step - loss: 1.4710 - accuracy: 0.4800 - val_loss: 1.5242 - val_accuracy: 0.4677\n",
            "Epoch 33/100000000000\n",
            "313/313 [==============================] - 2s 5ms/step - loss: 1.4700 - accuracy: 0.4811 - val_loss: 1.5190 - val_accuracy: 0.4683\n",
            "Epoch 34/100000000000\n",
            "313/313 [==============================] - 2s 6ms/step - loss: 1.4629 - accuracy: 0.4848 - val_loss: 1.5147 - val_accuracy: 0.4713\n",
            "Epoch 35/100000000000\n",
            "313/313 [==============================] - 1s 5ms/step - loss: 1.4567 - accuracy: 0.4845 - val_loss: 1.5073 - val_accuracy: 0.4695\n",
            "Epoch 36/100000000000\n",
            "313/313 [==============================] - 2s 5ms/step - loss: 1.4553 - accuracy: 0.4848 - val_loss: 1.5171 - val_accuracy: 0.4673\n",
            "Epoch 37/100000000000\n",
            "313/313 [==============================] - 1s 5ms/step - loss: 1.4526 - accuracy: 0.4857 - val_loss: 1.5152 - val_accuracy: 0.4714\n",
            "Epoch 38/100000000000\n",
            "313/313 [==============================] - 2s 5ms/step - loss: 1.4467 - accuracy: 0.4897 - val_loss: 1.5109 - val_accuracy: 0.4732\n",
            "Epoch 39/100000000000\n",
            "313/313 [==============================] - 1s 4ms/step - loss: 1.4462 - accuracy: 0.4895 - val_loss: 1.5039 - val_accuracy: 0.4741\n",
            "Epoch 40/100000000000\n",
            "313/313 [==============================] - 1s 4ms/step - loss: 1.4436 - accuracy: 0.4908 - val_loss: 1.5071 - val_accuracy: 0.4719\n",
            "Epoch 41/100000000000\n",
            "313/313 [==============================] - 2s 5ms/step - loss: 1.4412 - accuracy: 0.4916 - val_loss: 1.4968 - val_accuracy: 0.4707\n",
            "Epoch 42/100000000000\n",
            "313/313 [==============================] - 2s 6ms/step - loss: 1.4349 - accuracy: 0.4902 - val_loss: 1.4974 - val_accuracy: 0.4762\n",
            "Epoch 43/100000000000\n",
            "313/313 [==============================] - 1s 4ms/step - loss: 1.4291 - accuracy: 0.4947 - val_loss: 1.4997 - val_accuracy: 0.4742\n",
            "Epoch 44/100000000000\n",
            "313/313 [==============================] - 1s 4ms/step - loss: 1.4315 - accuracy: 0.4965 - val_loss: 1.4992 - val_accuracy: 0.4761\n",
            "Epoch 45/100000000000\n",
            "313/313 [==============================] - 2s 5ms/step - loss: 1.4201 - accuracy: 0.4975 - val_loss: 1.4944 - val_accuracy: 0.4748\n",
            "Epoch 46/100000000000\n",
            "313/313 [==============================] - 2s 5ms/step - loss: 1.4176 - accuracy: 0.4973 - val_loss: 1.4879 - val_accuracy: 0.4785\n",
            "Epoch 47/100000000000\n",
            "313/313 [==============================] - 1s 5ms/step - loss: 1.4167 - accuracy: 0.4988 - val_loss: 1.4864 - val_accuracy: 0.4787\n",
            "Epoch 48/100000000000\n",
            "313/313 [==============================] - 1s 5ms/step - loss: 1.4217 - accuracy: 0.4954 - val_loss: 1.4903 - val_accuracy: 0.4802\n",
            "Epoch 49/100000000000\n",
            "313/313 [==============================] - 2s 5ms/step - loss: 1.4148 - accuracy: 0.4965 - val_loss: 1.4921 - val_accuracy: 0.4759\n",
            "Epoch 50/100000000000\n",
            "313/313 [==============================] - 2s 7ms/step - loss: 1.4115 - accuracy: 0.4997 - val_loss: 1.4943 - val_accuracy: 0.4739\n",
            "Epoch 51/100000000000\n",
            "313/313 [==============================] - 1s 5ms/step - loss: 1.4073 - accuracy: 0.4986 - val_loss: 1.4953 - val_accuracy: 0.4807\n",
            "Epoch 52/100000000000\n",
            "313/313 [==============================] - 2s 5ms/step - loss: 1.4078 - accuracy: 0.5024 - val_loss: 1.4925 - val_accuracy: 0.4794\n",
            "Epoch 53/100000000000\n",
            "313/313 [==============================] - 1s 4ms/step - loss: 1.3976 - accuracy: 0.5062 - val_loss: 1.4845 - val_accuracy: 0.4832\n",
            "Epoch 54/100000000000\n",
            "313/313 [==============================] - 2s 5ms/step - loss: 1.3993 - accuracy: 0.5007 - val_loss: 1.4864 - val_accuracy: 0.4841\n",
            "Epoch 55/100000000000\n",
            "313/313 [==============================] - 2s 5ms/step - loss: 1.3964 - accuracy: 0.5072 - val_loss: 1.4811 - val_accuracy: 0.4802\n",
            "Epoch 56/100000000000\n",
            "313/313 [==============================] - 2s 5ms/step - loss: 1.3926 - accuracy: 0.5054 - val_loss: 1.4789 - val_accuracy: 0.4858\n",
            "Epoch 57/100000000000\n",
            "313/313 [==============================] - 2s 6ms/step - loss: 1.4010 - accuracy: 0.5053 - val_loss: 1.4846 - val_accuracy: 0.4807\n",
            "Epoch 58/100000000000\n",
            "313/313 [==============================] - 2s 6ms/step - loss: 1.3911 - accuracy: 0.5072 - val_loss: 1.4798 - val_accuracy: 0.4810\n",
            "Epoch 59/100000000000\n",
            "313/313 [==============================] - 1s 4ms/step - loss: 1.3921 - accuracy: 0.5081 - val_loss: 1.4781 - val_accuracy: 0.4805\n",
            "Epoch 60/100000000000\n",
            "313/313 [==============================] - 1s 4ms/step - loss: 1.3802 - accuracy: 0.5129 - val_loss: 1.4882 - val_accuracy: 0.4769\n",
            "Epoch 61/100000000000\n",
            "313/313 [==============================] - 2s 5ms/step - loss: 1.3817 - accuracy: 0.5092 - val_loss: 1.4771 - val_accuracy: 0.4846\n"
          ]
        }
      ]
    },
    {
      "cell_type": "markdown",
      "source": [
        "## 2.2 Exercise\n",
        "Change the [activation function of the dense layers (except the last one)](https://www.tensorflow.org/api_docs/python/tf/keras/layers/Dense) to rectified linear unit (ReLU) and the [weight initialization](https://www.tensorflow.org/api_docs/python/tf/keras/initializers) to the theoretically best one. Use the original model's code.\n",
        "\n",
        "Compile and train the model. Inspect the effects of the modifications."
      ],
      "metadata": {
        "id": "zQCDM1o1BBtF"
      }
    },
    {
      "cell_type": "code",
      "source": [
        "# model definition with relu\n",
        "model = Sequential()\n",
        "model.add(Dense(128, activation='ReLU', kernel_initializer='he_normal', input_shape=(flattened_dim,)))\n",
        "model.add(Dense(128, activation='ReLU', kernel_initializer='he_normal'))\n",
        "model.add(Dense(nb_classes, activation='softmax'))\n",
        "\n",
        "# loss function and optimizer\n",
        "model.compile(loss='categorical_crossentropy', optimizer='adam', metrics=['accuracy'])"
      ],
      "metadata": {
        "id": "YjHAAh-wGu9O"
      },
      "execution_count": 42,
      "outputs": []
    },
    {
      "cell_type": "code",
      "source": [
        "# training\n",
        "network_history = model.fit(X_train, Y_train,\n",
        "                            validation_data=(X_valid,Y_valid),\n",
        "                            batch_size=128,\n",
        "                            epochs=40,\n",
        "                            verbose=1)"
      ],
      "metadata": {
        "id": "rarwKM1wGxMz",
        "colab": {
          "base_uri": "https://localhost:8080/"
        },
        "outputId": "127303e8-cb36-4f4f-d469-773f9fa7143d"
      },
      "execution_count": 43,
      "outputs": [
        {
          "output_type": "stream",
          "name": "stdout",
          "text": [
            "Epoch 1/40\n",
            "313/313 [==============================] - 3s 6ms/step - loss: 1.8306 - accuracy: 0.3790 - val_loss: 1.6735 - val_accuracy: 0.4195\n",
            "Epoch 2/40\n",
            "313/313 [==============================] - 2s 5ms/step - loss: 1.5455 - accuracy: 0.4608 - val_loss: 1.5944 - val_accuracy: 0.4405\n",
            "Epoch 3/40\n",
            "313/313 [==============================] - 1s 5ms/step - loss: 1.4288 - accuracy: 0.4981 - val_loss: 1.5562 - val_accuracy: 0.4633\n",
            "Epoch 4/40\n",
            "313/313 [==============================] - 2s 5ms/step - loss: 1.3368 - accuracy: 0.5333 - val_loss: 1.5402 - val_accuracy: 0.4751\n",
            "Epoch 5/40\n",
            "313/313 [==============================] - 2s 6ms/step - loss: 1.2636 - accuracy: 0.5590 - val_loss: 1.5126 - val_accuracy: 0.4882\n",
            "Epoch 6/40\n",
            "313/313 [==============================] - 1s 5ms/step - loss: 1.2133 - accuracy: 0.5746 - val_loss: 1.5112 - val_accuracy: 0.4912\n",
            "Epoch 7/40\n",
            "313/313 [==============================] - 2s 5ms/step - loss: 1.1612 - accuracy: 0.5899 - val_loss: 1.5334 - val_accuracy: 0.4922\n",
            "Epoch 8/40\n",
            "313/313 [==============================] - 1s 4ms/step - loss: 1.1085 - accuracy: 0.6127 - val_loss: 1.5281 - val_accuracy: 0.4923\n",
            "Epoch 9/40\n",
            "313/313 [==============================] - 1s 4ms/step - loss: 1.0646 - accuracy: 0.6232 - val_loss: 1.5491 - val_accuracy: 0.4933\n",
            "Epoch 10/40\n",
            "313/313 [==============================] - 1s 5ms/step - loss: 1.0199 - accuracy: 0.6426 - val_loss: 1.5737 - val_accuracy: 0.4905\n",
            "Epoch 11/40\n",
            "313/313 [==============================] - 2s 5ms/step - loss: 0.9796 - accuracy: 0.6554 - val_loss: 1.5841 - val_accuracy: 0.4947\n",
            "Epoch 12/40\n",
            "313/313 [==============================] - 2s 5ms/step - loss: 0.9370 - accuracy: 0.6702 - val_loss: 1.6377 - val_accuracy: 0.4905\n",
            "Epoch 13/40\n",
            "313/313 [==============================] - 2s 6ms/step - loss: 0.8926 - accuracy: 0.6855 - val_loss: 1.6492 - val_accuracy: 0.4904\n",
            "Epoch 14/40\n",
            "313/313 [==============================] - 1s 5ms/step - loss: 0.8593 - accuracy: 0.6973 - val_loss: 1.7535 - val_accuracy: 0.4792\n",
            "Epoch 15/40\n",
            "313/313 [==============================] - 1s 4ms/step - loss: 0.8307 - accuracy: 0.7065 - val_loss: 1.7423 - val_accuracy: 0.4853\n",
            "Epoch 16/40\n",
            "313/313 [==============================] - 1s 4ms/step - loss: 0.7935 - accuracy: 0.7217 - val_loss: 1.7542 - val_accuracy: 0.4899\n",
            "Epoch 17/40\n",
            "313/313 [==============================] - 1s 4ms/step - loss: 0.7624 - accuracy: 0.7323 - val_loss: 1.8145 - val_accuracy: 0.4842\n",
            "Epoch 18/40\n",
            "313/313 [==============================] - 1s 4ms/step - loss: 0.7333 - accuracy: 0.7421 - val_loss: 1.8682 - val_accuracy: 0.4874\n",
            "Epoch 19/40\n",
            "313/313 [==============================] - 2s 5ms/step - loss: 0.6990 - accuracy: 0.7531 - val_loss: 1.9411 - val_accuracy: 0.4813\n",
            "Epoch 20/40\n",
            "313/313 [==============================] - 2s 5ms/step - loss: 0.6752 - accuracy: 0.7627 - val_loss: 1.9361 - val_accuracy: 0.4840\n",
            "Epoch 21/40\n",
            "313/313 [==============================] - 2s 6ms/step - loss: 0.6402 - accuracy: 0.7732 - val_loss: 2.0154 - val_accuracy: 0.4805\n",
            "Epoch 22/40\n",
            "313/313 [==============================] - 2s 5ms/step - loss: 0.6198 - accuracy: 0.7818 - val_loss: 2.0824 - val_accuracy: 0.4819\n",
            "Epoch 23/40\n",
            "313/313 [==============================] - 2s 5ms/step - loss: 0.5875 - accuracy: 0.7934 - val_loss: 2.1290 - val_accuracy: 0.4754\n",
            "Epoch 24/40\n",
            "313/313 [==============================] - 1s 5ms/step - loss: 0.5741 - accuracy: 0.7961 - val_loss: 2.1877 - val_accuracy: 0.4738\n",
            "Epoch 25/40\n",
            "313/313 [==============================] - 1s 4ms/step - loss: 0.5432 - accuracy: 0.8076 - val_loss: 2.2703 - val_accuracy: 0.4804\n",
            "Epoch 26/40\n",
            "313/313 [==============================] - 1s 4ms/step - loss: 0.5374 - accuracy: 0.8095 - val_loss: 2.3013 - val_accuracy: 0.4759\n",
            "Epoch 27/40\n",
            "313/313 [==============================] - 1s 5ms/step - loss: 0.5074 - accuracy: 0.8209 - val_loss: 2.3769 - val_accuracy: 0.4726\n",
            "Epoch 28/40\n",
            "313/313 [==============================] - 2s 5ms/step - loss: 0.4804 - accuracy: 0.8314 - val_loss: 2.4100 - val_accuracy: 0.4694\n",
            "Epoch 29/40\n",
            "313/313 [==============================] - 2s 6ms/step - loss: 0.4706 - accuracy: 0.8325 - val_loss: 2.5229 - val_accuracy: 0.4685\n",
            "Epoch 30/40\n",
            "313/313 [==============================] - 1s 4ms/step - loss: 0.4635 - accuracy: 0.8366 - val_loss: 2.5729 - val_accuracy: 0.4783\n",
            "Epoch 31/40\n",
            "313/313 [==============================] - 2s 5ms/step - loss: 0.4426 - accuracy: 0.8432 - val_loss: 2.5603 - val_accuracy: 0.4774\n",
            "Epoch 32/40\n",
            "313/313 [==============================] - 1s 4ms/step - loss: 0.4200 - accuracy: 0.8514 - val_loss: 2.7000 - val_accuracy: 0.4749\n",
            "Epoch 33/40\n",
            "313/313 [==============================] - 1s 4ms/step - loss: 0.4014 - accuracy: 0.8584 - val_loss: 2.8017 - val_accuracy: 0.4738\n",
            "Epoch 34/40\n",
            "313/313 [==============================] - 2s 5ms/step - loss: 0.3942 - accuracy: 0.8617 - val_loss: 2.8045 - val_accuracy: 0.4703\n",
            "Epoch 35/40\n",
            "313/313 [==============================] - 1s 4ms/step - loss: 0.3895 - accuracy: 0.8621 - val_loss: 2.8719 - val_accuracy: 0.4748\n",
            "Epoch 36/40\n",
            "313/313 [==============================] - 2s 5ms/step - loss: 0.3795 - accuracy: 0.8675 - val_loss: 2.8919 - val_accuracy: 0.4735\n",
            "Epoch 37/40\n",
            "313/313 [==============================] - 2s 6ms/step - loss: 0.3621 - accuracy: 0.8720 - val_loss: 2.9566 - val_accuracy: 0.4703\n",
            "Epoch 38/40\n",
            "313/313 [==============================] - 2s 5ms/step - loss: 0.3474 - accuracy: 0.8780 - val_loss: 3.0498 - val_accuracy: 0.4624\n",
            "Epoch 39/40\n",
            "313/313 [==============================] - 1s 5ms/step - loss: 0.3369 - accuracy: 0.8828 - val_loss: 3.1951 - val_accuracy: 0.4704\n",
            "Epoch 40/40\n",
            "313/313 [==============================] - 1s 5ms/step - loss: 0.3313 - accuracy: 0.8837 - val_loss: 3.2124 - val_accuracy: 0.4720\n"
          ]
        }
      ]
    },
    {
      "cell_type": "markdown",
      "source": [
        "# 2.3. Exercise\n",
        "Based on the modifications above, and by any further modifications (e.g. more layers, less layers, more neurons/layer, etc.) to the model design, find a combination that is able to achieve **validation accuracy, that is higher than 53%**.\n"
      ],
      "metadata": {
        "id": "j1tGVPdD-pp3"
      }
    },
    {
      "cell_type": "code",
      "source": [
        "es = EarlyStopping(\n",
        "      monitor='val_accuracy',\n",
        "      patience=5,\n",
        "      min_delta=0.0001,\n",
        "      restore_best_weights=True,\n",
        "    )"
      ],
      "metadata": {
        "id": "5dBQxJHIHrbd"
      },
      "execution_count": 44,
      "outputs": []
    },
    {
      "cell_type": "code",
      "source": [
        "# model definition\n",
        "dropout_rate = 0.4\n",
        "model = Sequential()\n",
        "model.add(Dense(256, activation='ReLU', kernel_initializer='he_normal', input_shape=(flattened_dim,)))\n",
        "model.add(Dropout(dropout_rate))\n",
        "model.add(Dense(256, activation='ReLU', kernel_initializer='he_normal'))\n",
        "model.add(Dense(nb_classes, activation='softmax'))\n",
        "\n",
        "# loss function and optimizer\n",
        "model.compile(loss='categorical_crossentropy', optimizer='adam', metrics=['accuracy'])"
      ],
      "metadata": {
        "id": "PuxHOqLt-3Nd"
      },
      "execution_count": 58,
      "outputs": []
    },
    {
      "cell_type": "code",
      "source": [
        "# training\n",
        "# training with early stopping\n",
        "network_history = model.fit(X_train, Y_train,\n",
        "                            validation_data=(X_valid,Y_valid),\n",
        "                            batch_size=128,\n",
        "                            epochs=100000000000,\n",
        "                            verbose=1,\n",
        "                            callbacks=[es])"
      ],
      "metadata": {
        "id": "u8tFNCNVHyt9",
        "colab": {
          "base_uri": "https://localhost:8080/"
        },
        "outputId": "7c9ac634-f1c4-4115-db28-dafd32699cf2"
      },
      "execution_count": 59,
      "outputs": [
        {
          "output_type": "stream",
          "name": "stdout",
          "text": [
            "Epoch 1/100000000000\n",
            "313/313 [==============================] - 3s 6ms/step - loss: 2.1557 - accuracy: 0.3121 - val_loss: 1.6795 - val_accuracy: 0.4084\n",
            "Epoch 2/100000000000\n",
            "313/313 [==============================] - 2s 5ms/step - loss: 1.7216 - accuracy: 0.3932 - val_loss: 1.5958 - val_accuracy: 0.4399\n",
            "Epoch 3/100000000000\n",
            "313/313 [==============================] - 2s 5ms/step - loss: 1.6097 - accuracy: 0.4336 - val_loss: 1.5375 - val_accuracy: 0.4579\n",
            "Epoch 4/100000000000\n",
            "313/313 [==============================] - 2s 5ms/step - loss: 1.5532 - accuracy: 0.4495 - val_loss: 1.5020 - val_accuracy: 0.4726\n",
            "Epoch 5/100000000000\n",
            "313/313 [==============================] - 2s 5ms/step - loss: 1.5102 - accuracy: 0.4652 - val_loss: 1.4910 - val_accuracy: 0.4767\n",
            "Epoch 6/100000000000\n",
            "313/313 [==============================] - 2s 5ms/step - loss: 1.4802 - accuracy: 0.4754 - val_loss: 1.4565 - val_accuracy: 0.4878\n",
            "Epoch 7/100000000000\n",
            "313/313 [==============================] - 2s 6ms/step - loss: 1.4512 - accuracy: 0.4856 - val_loss: 1.4539 - val_accuracy: 0.4903\n",
            "Epoch 8/100000000000\n",
            "313/313 [==============================] - 2s 5ms/step - loss: 1.4259 - accuracy: 0.4927 - val_loss: 1.4319 - val_accuracy: 0.5016\n",
            "Epoch 9/100000000000\n",
            "313/313 [==============================] - 2s 5ms/step - loss: 1.4046 - accuracy: 0.5019 - val_loss: 1.4293 - val_accuracy: 0.5030\n",
            "Epoch 10/100000000000\n",
            "313/313 [==============================] - 1s 5ms/step - loss: 1.3885 - accuracy: 0.5060 - val_loss: 1.4261 - val_accuracy: 0.4974\n",
            "Epoch 11/100000000000\n",
            "313/313 [==============================] - 2s 5ms/step - loss: 1.3735 - accuracy: 0.5117 - val_loss: 1.4023 - val_accuracy: 0.5088\n",
            "Epoch 12/100000000000\n",
            "313/313 [==============================] - 2s 5ms/step - loss: 1.3539 - accuracy: 0.5210 - val_loss: 1.3968 - val_accuracy: 0.5110\n",
            "Epoch 13/100000000000\n",
            "313/313 [==============================] - 1s 5ms/step - loss: 1.3396 - accuracy: 0.5232 - val_loss: 1.4079 - val_accuracy: 0.5095\n",
            "Epoch 14/100000000000\n",
            "313/313 [==============================] - 1s 5ms/step - loss: 1.3224 - accuracy: 0.5316 - val_loss: 1.3894 - val_accuracy: 0.5146\n",
            "Epoch 15/100000000000\n",
            "313/313 [==============================] - 2s 6ms/step - loss: 1.3062 - accuracy: 0.5383 - val_loss: 1.3697 - val_accuracy: 0.5222\n",
            "Epoch 16/100000000000\n",
            "313/313 [==============================] - 2s 6ms/step - loss: 1.2969 - accuracy: 0.5375 - val_loss: 1.3853 - val_accuracy: 0.5178\n",
            "Epoch 17/100000000000\n",
            "313/313 [==============================] - 1s 5ms/step - loss: 1.2780 - accuracy: 0.5450 - val_loss: 1.3760 - val_accuracy: 0.5225\n",
            "Epoch 18/100000000000\n",
            "313/313 [==============================] - 1s 5ms/step - loss: 1.2688 - accuracy: 0.5489 - val_loss: 1.3643 - val_accuracy: 0.5260\n",
            "Epoch 19/100000000000\n",
            "313/313 [==============================] - 1s 5ms/step - loss: 1.2535 - accuracy: 0.5567 - val_loss: 1.3679 - val_accuracy: 0.5242\n",
            "Epoch 20/100000000000\n",
            "313/313 [==============================] - 1s 5ms/step - loss: 1.2441 - accuracy: 0.5561 - val_loss: 1.3686 - val_accuracy: 0.5225\n",
            "Epoch 21/100000000000\n",
            "313/313 [==============================] - 1s 5ms/step - loss: 1.2359 - accuracy: 0.5617 - val_loss: 1.3760 - val_accuracy: 0.5205\n",
            "Epoch 22/100000000000\n",
            "313/313 [==============================] - 2s 5ms/step - loss: 1.2221 - accuracy: 0.5658 - val_loss: 1.3518 - val_accuracy: 0.5278\n",
            "Epoch 23/100000000000\n",
            "313/313 [==============================] - 2s 7ms/step - loss: 1.2133 - accuracy: 0.5699 - val_loss: 1.3590 - val_accuracy: 0.5251\n",
            "Epoch 24/100000000000\n",
            "313/313 [==============================] - 2s 5ms/step - loss: 1.1990 - accuracy: 0.5743 - val_loss: 1.3632 - val_accuracy: 0.5261\n",
            "Epoch 25/100000000000\n",
            "313/313 [==============================] - 1s 5ms/step - loss: 1.1929 - accuracy: 0.5763 - val_loss: 1.3539 - val_accuracy: 0.5262\n",
            "Epoch 26/100000000000\n",
            "313/313 [==============================] - 1s 5ms/step - loss: 1.1824 - accuracy: 0.5817 - val_loss: 1.3773 - val_accuracy: 0.5229\n",
            "Epoch 27/100000000000\n",
            "313/313 [==============================] - 2s 5ms/step - loss: 1.1751 - accuracy: 0.5829 - val_loss: 1.3507 - val_accuracy: 0.5307\n",
            "Epoch 28/100000000000\n",
            "313/313 [==============================] - 1s 5ms/step - loss: 1.1579 - accuracy: 0.5877 - val_loss: 1.3667 - val_accuracy: 0.5318\n",
            "Epoch 29/100000000000\n",
            "313/313 [==============================] - 2s 5ms/step - loss: 1.1612 - accuracy: 0.5877 - val_loss: 1.3602 - val_accuracy: 0.5264\n",
            "Epoch 30/100000000000\n",
            "313/313 [==============================] - 2s 5ms/step - loss: 1.1429 - accuracy: 0.5943 - val_loss: 1.3574 - val_accuracy: 0.5295\n",
            "Epoch 31/100000000000\n",
            "313/313 [==============================] - 2s 6ms/step - loss: 1.1339 - accuracy: 0.5958 - val_loss: 1.3630 - val_accuracy: 0.5286\n",
            "Epoch 32/100000000000\n",
            "313/313 [==============================] - 1s 5ms/step - loss: 1.1253 - accuracy: 0.6008 - val_loss: 1.3547 - val_accuracy: 0.5328\n",
            "Epoch 33/100000000000\n",
            "313/313 [==============================] - 1s 5ms/step - loss: 1.1237 - accuracy: 0.5989 - val_loss: 1.3485 - val_accuracy: 0.5386\n",
            "Epoch 34/100000000000\n",
            "313/313 [==============================] - 2s 5ms/step - loss: 1.1091 - accuracy: 0.6039 - val_loss: 1.3561 - val_accuracy: 0.5337\n",
            "Epoch 35/100000000000\n",
            "313/313 [==============================] - 2s 5ms/step - loss: 1.0987 - accuracy: 0.6091 - val_loss: 1.3683 - val_accuracy: 0.5283\n",
            "Epoch 36/100000000000\n",
            "313/313 [==============================] - 2s 5ms/step - loss: 1.0897 - accuracy: 0.6103 - val_loss: 1.3518 - val_accuracy: 0.5354\n",
            "Epoch 37/100000000000\n",
            "313/313 [==============================] - 2s 5ms/step - loss: 1.0781 - accuracy: 0.6181 - val_loss: 1.3555 - val_accuracy: 0.5321\n",
            "Epoch 38/100000000000\n",
            "313/313 [==============================] - 2s 6ms/step - loss: 1.0775 - accuracy: 0.6184 - val_loss: 1.3545 - val_accuracy: 0.5341\n"
          ]
        }
      ]
    },
    {
      "cell_type": "markdown",
      "source": [
        "# 3. Evaluation on test data and inference\n",
        "At this point, we will perform a basic evaluation and inference. With the model.evaluate function, the same metrics are calculated, that were used during training:"
      ],
      "metadata": {
        "id": "2FtKp-a2-A9m"
      }
    },
    {
      "cell_type": "code",
      "source": [
        "print(model.evaluate(X_test, Y_test))"
      ],
      "metadata": {
        "id": "I3_9wgDREUna",
        "colab": {
          "base_uri": "https://localhost:8080/"
        },
        "outputId": "ac69827d-ed65-4c3f-a161-9c136433d5cf"
      },
      "execution_count": 60,
      "outputs": [
        {
          "output_type": "stream",
          "name": "stdout",
          "text": [
            "313/313 [==============================] - 1s 3ms/step - loss: 1.3289 - accuracy: 0.5342\n",
            "[1.3289194107055664, 0.5342000126838684]\n"
          ]
        }
      ]
    },
    {
      "cell_type": "markdown",
      "source": [
        "we would like to see similar values, as in the validation set. If those are close to each other, then the generalization ability of the model is good (in case of an independent test-set)."
      ],
      "metadata": {
        "id": "ECHguBFtGL7f"
      }
    },
    {
      "cell_type": "markdown",
      "source": [
        "## 3.1. Exercise\n",
        "Predict the class of the first 10 elements in the test set, and compare the predicted values with the actual, target values in the test set. Hints:\n",
        "* you can use [model.predict](https://www.activestate.com/resources/quick-reads/how-to-use-a-model-to-do-predictions-with-keras/) for prediction\n",
        "* from the output you can select the largest value with the [argmax() function of Numpy](https://stackoverflow.com/questions/62358642/convert-one-hot-encoding-back-to-number-label). As there are multiple values, you have to call it with axis=1 parameter.\n",
        "* it is enought to compare the predictions and the targets by printing the values out and inspecting them."
      ],
      "metadata": {
        "id": "0Io4zYJeHjz6"
      }
    },
    {
      "cell_type": "code",
      "source": [
        "preds = model.predict(X_test[:10])\n",
        "preds_dense = np.argmax(preds, axis=1)"
      ],
      "metadata": {
        "id": "XEEyU7exILqF",
        "colab": {
          "base_uri": "https://localhost:8080/"
        },
        "outputId": "ee2fc834-90d1-45d4-dbea-5b20203f80ae"
      },
      "execution_count": 62,
      "outputs": [
        {
          "output_type": "stream",
          "name": "stdout",
          "text": [
            "1/1 [==============================] - 0s 36ms/step\n"
          ]
        }
      ]
    },
    {
      "cell_type": "markdown",
      "source": [
        "Before comparision, you have to convert back the one-hot encoded target values the same way, as you converted the output of the neural network to class values with argmax() function."
      ],
      "metadata": {
        "id": "seZTEFI-I5cZ"
      }
    },
    {
      "cell_type": "code",
      "source": [
        "print(\"Target labels:\", np.argmax(Y_test[:10],axis=1))\n",
        "print(\"Predicted labels:\", preds_dense)"
      ],
      "metadata": {
        "id": "PHLvoMuIIkJ6",
        "colab": {
          "base_uri": "https://localhost:8080/"
        },
        "outputId": "34974563-3c3b-4bff-bb1f-10d1218d2f27"
      },
      "execution_count": 63,
      "outputs": [
        {
          "output_type": "stream",
          "name": "stdout",
          "text": [
            "Target labels: [3 8 8 0 6 6 1 6 3 1]\n",
            "Predicted labels: [3 9 0 8 4 6 1 6 5 9]\n"
          ]
        }
      ]
    },
    {
      "cell_type": "code",
      "source": [],
      "metadata": {
        "id": "PoSlp-0RnuNw"
      },
      "execution_count": null,
      "outputs": []
    }
  ]
}
{
  "nbformat": 4,
  "nbformat_minor": 0,
  "metadata": {
    "anaconda-cloud": {},
    "kernelspec": {
      "display_name": "Python 3",
      "language": "python",
      "name": "python3"
    },
    "language_info": {
      "codemirror_mode": {
        "name": "ipython",
        "version": 3
      },
      "file_extension": ".py",
      "mimetype": "text/x-python",
      "name": "python",
      "nbconvert_exporter": "python",
      "pygments_lexer": "ipython3",
      "version": "3.6.6"
    },
    "colab": {
      "provenance": []
    },
    "accelerator": "GPU"
  },
  "cells": [
    {
      "cell_type": "markdown",
      "metadata": {
        "id": "cW-EyI5Lxpqi"
      },
      "source": [
        "# Copyright\n",
        "\n",
        "<PRE>\n",
        "Copyright (c) 2024 Bálint Gyires-Tóth - All Rights Reserved\n",
        "You may use and modify this code for research and development purpuses.\n",
        "Using this code for educational purposes (self-paced or instructor led) without the permission of the author is prohibited.\n",
        "</PRE>"
      ]
    },
    {
      "cell_type": "markdown",
      "source": [
        "# Example of data exploration, modeling, regulartion and prediction\n",
        "Our exercise today involves loading a standard dataset using TensorFlow Keras API, exploring the data, building a simple neural network, and evaluating the effects of basic methods (activation functions, regularization, weight initialization, etc.). We then perform predictions on the test set and inspect the results."
      ],
      "metadata": {
        "id": "3EX4cCa4WKJu"
      }
    },
    {
      "cell_type": "markdown",
      "source": [
        "# 1. Data\n",
        "The dataset we will use is the well-known CIFAR10 (Canadian Institute For Advanced Research). Explore the details on the Keras website first: https://keras.io/api/datasets/cifar10/\n",
        "\n",
        "After you explored the basic features of the data, let's load it into the memory and explore the shapes:"
      ],
      "metadata": {
        "id": "yY9fztIeWIKt"
      }
    },
    {
      "cell_type": "code",
      "source": [
        "from tensorflow.keras.datasets import cifar10\n",
        "from tensorflow.keras.utils import to_categorical\n",
        "import numpy as np"
      ],
      "metadata": {
        "id": "giRZKTjzX_7l"
      },
      "execution_count": 1,
      "outputs": []
    },
    {
      "cell_type": "code",
      "source": [
        "(X_train, Y_train), (X_test, Y_test) = cifar10.load_data()"
      ],
      "metadata": {
        "id": "bez7q0eiWQCK",
        "colab": {
          "base_uri": "https://localhost:8080/"
        },
        "outputId": "658c146a-8ad7-4ecf-bf88-eec03ff6b30b"
      },
      "execution_count": 2,
      "outputs": [
        {
          "output_type": "stream",
          "name": "stdout",
          "text": [
            "Downloading data from https://www.cs.toronto.edu/~kriz/cifar-10-python.tar.gz\n",
            "170498071/170498071 [==============================] - 3s 0us/step\n"
          ]
        }
      ]
    },
    {
      "cell_type": "code",
      "source": [
        "print(X_train.shape)\n",
        "print(X_test.shape)\n",
        "print(Y_train.shape)\n",
        "print(Y_test.shape)"
      ],
      "metadata": {
        "id": "2tJoRq5wXywi",
        "colab": {
          "base_uri": "https://localhost:8080/"
        },
        "outputId": "dceb9376-8735-4ea6-9240-5d47e24f112c"
      },
      "execution_count": 3,
      "outputs": [
        {
          "output_type": "stream",
          "name": "stdout",
          "text": [
            "(50000, 32, 32, 3)\n",
            "(10000, 32, 32, 3)\n",
            "(50000, 1)\n",
            "(10000, 1)\n"
          ]
        }
      ]
    },
    {
      "cell_type": "markdown",
      "source": [
        "## 1.1. Exercise\n",
        "Display the first ten images of the training data. Hints:\n",
        "* Axis 0 refers to the separate images, e.g. X_train[0]\n",
        "* You can use the [Matplotlib Pyplot imshow function](https://matplotlib.org/stable/api/_as_gen/matplotlib.pyplot.imshow.html) for displaying the image. Just don't forget to import Plotly first!\n",
        "* A corresponding example, but you have to modify the code for your purpose: https://stackoverflow.com/questions/46615554/how-to-display-multiple-images-in-one-figure-correctly"
      ],
      "metadata": {
        "id": "zTCSGFyDlNvf"
      }
    },
    {
      "cell_type": "code",
      "source": [
        "# From https://keras.io/api/datasets/cifar10/\n",
        "descriptions = [\"airplane\", \"automobile\", \"bird\", \"cat\", \"deer\",\n",
        "                \"dog\", \"frog\", \"horse\", \"ship\", \"truck\"]\n",
        "\n",
        "import matplotlib.pyplot as plt\n",
        "\n",
        "fig = plt.figure(figsize=(10, 8))\n",
        "columns = 4\n",
        "rows = 3\n",
        "for i in range(0, columns*rows):\n",
        "    if i >= 10:\n",
        "      break\n",
        "    img = X_train[i]\n",
        "    fig.add_subplot(rows, columns, i + 1)\n",
        "    plt.imshow(img)\n",
        "    plt.title(str(Y_train[i][0]) + \": \" + descriptions[Y_train[i][0]])\n",
        "\n",
        "plt.show()"
      ],
      "metadata": {
        "id": "hIQhHTppmBdO",
        "colab": {
          "base_uri": "https://localhost:8080/",
          "height": 686
        },
        "outputId": "cfbf30d9-15f6-45cb-8c50-aaf5a29450a1"
      },
      "execution_count": 16,
      "outputs": [
        {
          "output_type": "display_data",
          "data": {
            "text/plain": [
              "<Figure size 1000x800 with 10 Axes>"
            ],
            "image/png": "[encoded data removed]"
          },
          "metadata": {}
        }
      ]
    },
    {
      "cell_type": "markdown",
      "source": [
        "Print the corresponding labels of the displayed images from the target variable (Y_train):"
      ],
      "metadata": {
        "id": "FAQkUWlmm-bc"
      }
    },
    {
      "cell_type": "code",
      "source": [
        "for i in range(10):\n",
        "  print(\"Index: \" + str(i) + \", Label index: \" + str(Y_train[i][0]) + \", Description: \" + descriptions[Y_train[i][0]])"
      ],
      "metadata": {
        "id": "AkOrWzghnJ78",
        "colab": {
          "base_uri": "https://localhost:8080/"
        },
        "outputId": "0c144d39-a2bb-4dfd-de65-6063da737a16"
      },
      "execution_count": 18,
      "outputs": [
        {
          "output_type": "stream",
          "name": "stdout",
          "text": [
            "Index: 0, Label index: 6, Description: frog\n",
            "Index: 1, Label index: 9, Description: truck\n",
            "Index: 2, Label index: 9, Description: truck\n",
            "Index: 3, Label index: 4, Description: deer\n",
            "Index: 4, Label index: 1, Description: automobile\n",
            "Index: 5, Label index: 1, Description: automobile\n",
            "Index: 6, Label index: 2, Description: bird\n",
            "Index: 7, Label index: 7, Description: horse\n",
            "Index: 8, Label index: 8, Description: ship\n",
            "Index: 9, Label index: 3, Description: cat\n"
          ]
        }
      ]
    },
    {
      "cell_type": "markdown",
      "source": [
        "## 1.2. Exercise\n",
        "We will train a Multi-Layer Perceptron (MLP), which requires a 2 dimensional input: 0th axis refers to the datapoints (i.e. images), the 1th dimens to the input. As images are 3 dimensional (width, height, color channels), you have to reshape the images into vectors. We also call this flattening.\n",
        "\n",
        "In order to do so, calculate the size of the equivalent 1D vector of the image:"
      ],
      "metadata": {
        "id": "VX24g5FstsRU"
      }
    },
    {
      "cell_type": "code",
      "source": [
        "flattened_dim = X_train.shape[1] * X_train.shape[2] * X_train.shape[3]"
      ],
      "metadata": {
        "id": "hdoMyxHzuXZG"
      },
      "execution_count": 19,
      "outputs": []
    },
    {
      "cell_type": "markdown",
      "source": [
        "After you calculated it, we can reshape the images, and covert the integer arrays into float arrays -- which are needed for the neural networks as input. Hint:\n",
        "* in the [reshape() function of Numpy](https://www.w3schools.com/python/numpy/numpy_array_reshape.asp) you can use -1 for one axis, to automatically calculate that value."
      ],
      "metadata": {
        "id": "WbqXJUSFubeC"
      }
    },
    {
      "cell_type": "code",
      "source": [
        "# reshape 3D tensors to 2D tensors\n",
        "X_train = X_train.reshape(-1, flattened_dim)\n",
        "X_test = X_test.reshape(-1, flattened_dim)\n",
        "\n",
        "# it is in int8 format, the neural network requires float32\n",
        "X_train = X_train.astype(np.float32)\n",
        "X_test = X_test.astype(np.float32)"
      ],
      "metadata": {
        "id": "vukOcBM0XzSj"
      },
      "execution_count": 20,
      "outputs": []
    },
    {
      "cell_type": "markdown",
      "source": [
        "## 1.3. Exercise\n",
        "As the next step, let's split the training data into training and validation data. 80% of the original training data should be the final training data, and 20% the validation.\n",
        "You should use Numpy indexing to select the first 80% of X_train as final X_train, and the last 20% as X_valid. Hints:\n",
        "* https://datascienceparichay.com/article/numpy-array-first-n-rows/\n",
        "* https://datascienceparichay.com/article/numpy-array-last-n-rows/"
      ],
      "metadata": {
        "id": "DO79AdIdvVfD"
      }
    },
    {
      "cell_type": "code",
      "source": [
        "train_ratio  = 0.8\n",
        "train_length = len(X_train) # length of the training data\n",
        "train_split  = int(train_length * train_ratio) # where to split the training and validation data\n",
        "X_valid, Y_valid = X_train[train_split:], Y_train[train_split:]\n",
        "X_train, Y_train = X_train[:train_split], Y_train[:train_split]"
      ],
      "metadata": {
        "id": "mRwuWxxIxLgN"
      },
      "execution_count": 21,
      "outputs": []
    },
    {
      "cell_type": "markdown",
      "source": [
        "## 1.4. Exercise\n",
        "As the last step of input data preparation, the data should be standardized. Calculate the mean and variance of the training data (elementvise -- so for each value of the flattened image you should get a mean and variance for the training data along 0th axis). Hint:\n",
        "* https://stackoverflow.com/questions/70626231/how-to-calculate-mean-variance-standard-deviation-per-index-of-array"
      ],
      "metadata": {
        "id": "z05y_QWDxWER"
      }
    },
    {
      "cell_type": "code",
      "source": [
        "mean = np.mean(X_train, axis=0)\n",
        "std  = np.std(X_train, axis=0)"
      ],
      "metadata": {
        "id": "TSZbvWCBx8Ea"
      },
      "execution_count": 22,
      "outputs": []
    },
    {
      "cell_type": "markdown",
      "source": [
        "Next, use the resulting values to standardize the training, validation and test data by substracting the mean and dividing the result with the standard deviation."
      ],
      "metadata": {
        "id": "6WRHKkkjyN1S"
      }
    },
    {
      "cell_type": "code",
      "source": [
        "X_train = (X_train - mean) / std\n",
        "X_valid = (X_valid - mean) / std\n",
        "X_test  = (X_test - mean) / std"
      ],
      "metadata": {
        "id": "2ESLP1EIyB2J"
      },
      "execution_count": 23,
      "outputs": []
    },
    {
      "cell_type": "markdown",
      "source": [
        "## 1.5. Exercise\n",
        "And as the last step, convert the dense representation of the classes (i.e. 0,1,2,3...9) to one-hot encoding (0 = [1 0 0 0 0 0 0 0 0 0], 1 = [0 1 0 0 0 0 0 0 0 0] ... 9 = [0 0 0 0 0 0 0 0 0 1]). To do this, first, calculate the number of unique elements in the target training data. Hints:\n",
        "* use the [unique() function](https://numpy.org/doc/stable/reference/generated/numpy.unique.html) of Numpy to list the unique elements\n",
        "* you can count the number of elements in a list with the [len() function](https://www.w3schools.com/python/ref_func_len.asp)"
      ],
      "metadata": {
        "id": "ooHCnUin7r4o"
      }
    },
    {
      "cell_type": "code",
      "source": [
        "nb_classes = len(np.unique(Y_train))"
      ],
      "metadata": {
        "id": "i0LAO9cs8KEE"
      },
      "execution_count": 24,
      "outputs": []
    },
    {
      "cell_type": "markdown",
      "source": [
        "Doublecheck, if the same number of classes exists in the validation and test target data:"
      ],
      "metadata": {
        "id": "BvM6XhGe8JU9"
      }
    },
    {
      "cell_type": "code",
      "source": [
        "print(\"Validation data has the same number of classes, as the training data:\", nb_classes == len(np.unique(Y_valid)))\n",
        "print(\"Test data has the same number of classes, as the training data:\", nb_classes == len(np.unique(Y_test)))"
      ],
      "metadata": {
        "id": "eZFNSsyx_Py2",
        "colab": {
          "base_uri": "https://localhost:8080/"
        },
        "outputId": "0fbdc296-9361-452d-95fb-1353a737f547"
      },
      "execution_count": 25,
      "outputs": [
        {
          "output_type": "stream",
          "name": "stdout",
          "text": [
            "Validation data has the same number of classes, as the training data: True\n",
            "Test data has the same number of classes, as the training data: True\n"
          ]
        }
      ]
    },
    {
      "cell_type": "markdown",
      "source": [
        "And convert the dense representation into one-hot encoding. Hint:\n",
        "* use the [to_categorical function](https://www.tensorflow.org/api_docs/python/tf/keras/utils/to_categorical) with the calculated nb_classes\n"
      ],
      "metadata": {
        "id": "mJM-iBmR8dLe"
      }
    },
    {
      "cell_type": "code",
      "source": [
        "Y_train = to_categorical(Y_train, num_classes=nb_classes)\n",
        "Y_valid = to_categorical(Y_valid, num_classes=nb_classes)\n",
        "Y_test  = to_categorical(Y_test, num_classes=nb_classes)"
      ],
      "metadata": {
        "id": "xwZ4OJ6I8lba"
      },
      "execution_count": 26,
      "outputs": []
    },
    {
      "cell_type": "markdown",
      "source": [
        "## Final check of data preparation\n",
        "Now, lets check the shapes and mean and standard deviation of the training, validation and test data."
      ],
      "metadata": {
        "id": "LshN2OSsv3TZ"
      }
    },
    {
      "cell_type": "code",
      "source": [
        "print(\"Shapes of the training, validation and test input data:\", X_train.shape, X_valid.shape, X_test.shape)\n",
        "print(\"Shapes of the training, validation and test output data:\", Y_train.shape, Y_valid.shape, Y_test.shape)\n",
        "print(\"Mean values of the training, validation and test input data:\", X_train.mean(), X_valid.mean(), X_test.mean())\n",
        "print(\"Standard deviation of the training, validation and test input data:\", X_train.std(), X_valid.std(), X_test.std())"
      ],
      "metadata": {
        "id": "O_jdJVcvX0vi",
        "colab": {
          "base_uri": "https://localhost:8080/"
        },
        "outputId": "1462041b-a423-4510-ac37-9c7266a93a99"
      },
      "execution_count": 27,
      "outputs": [
        {
          "output_type": "stream",
          "name": "stdout",
          "text": [
            "Shapes of the training, validation and test input data: (40000, 3072) (10000, 3072) (10000, 3072)\n",
            "Shapes of the training, validation and test output data: (40000, 10) (10000, 10) (10000, 10)\n",
            "Mean values of the training, validation and test input data: -2.4725992e-09 0.0023437182 0.013331188\n",
            "Standard deviation of the training, validation and test input data: 1.0000038 0.99656224 0.9978297\n"
          ]
        }
      ]
    },
    {
      "cell_type": "markdown",
      "source": [
        "Don't worry, if the mean and standard deviation of the validation and test data are not exactly 0 and 1, but these might be very mear to it (e.g. 0.01 mean, 0.99 variance)."
      ],
      "metadata": {
        "id": "5GtAOOoezmZY"
      }
    },
    {
      "cell_type": "markdown",
      "metadata": {
        "id": "cJ14oyZExpqj"
      },
      "source": [
        "# 2. Training"
      ]
    },
    {
      "cell_type": "markdown",
      "metadata": {
        "id": "s4ZXYRMBxpql"
      },
      "source": [
        "Let us begin with a simple example of creating a small neural network without regularization and training it with actual data. The purpose of this is to provide you with an example as to how to proceed with the next exercise."
      ]
    },
    {
      "cell_type": "code",
      "source": [
        "# imports\n",
        "import numpy as np\n",
        "import matplotlib.pyplot as plt\n",
        "from tensorflow.keras.models import Sequential\n",
        "from tensorflow.keras.layers import Dense, Embedding, Flatten, Dropout\n",
        "from tensorflow.keras.initializers import HeNormal\n",
        "from tensorflow.keras.callbacks import EarlyStopping"
      ],
      "metadata": {
        "id": "6-8Q6ll7ZDgq"
      },
      "execution_count": 28,
      "outputs": []
    },
    {
      "cell_type": "code",
      "source": [
        "# model definition\n",
        "model = Sequential()\n",
        "model.add(Dense(128, activation='tanh', input_shape=(flattened_dim,)))\n",
        "model.add(Dense(128, activation='tanh'))\n",
        "model.add(Dense(nb_classes, activation='softmax'))\n",
        "\n",
        "# loss function and optimizer\n",
        "model.compile(loss='categorical_crossentropy', optimizer='adam', metrics=['accuracy'])"
      ],
      "metadata": {
        "id": "pke6w3CD8DHp"
      },
      "execution_count": 29,
      "outputs": []
    },
    {
      "cell_type": "code",
      "metadata": {
        "id": "CZbOR76QxprC",
        "colab": {
          "base_uri": "https://localhost:8080/"
        },
        "outputId": "7b3111a9-3ba5-465a-e02f-28eb180ae1fa"
      },
      "source": [
        "# training\n",
        "network_history = model.fit(X_train, Y_train,\n",
        "                            validation_data=(X_valid,Y_valid),\n",
        "                            batch_size=128,\n",
        "                            epochs=40,\n",
        "                            verbose=1)"
      ],
      "execution_count": 30,
      "outputs": [
        {
          "output_type": "stream",
          "name": "stdout",
          "text": [
            "Epoch 1/40\n",
            "313/313 [==============================] - 4s 7ms/step - loss: 1.8179 - accuracy: 0.3652 - val_loss: 1.7761 - val_accuracy: 0.3881\n",
            "Epoch 2/40\n",
            "313/313 [==============================] - 1s 5ms/step - loss: 1.6948 - accuracy: 0.4132 - val_loss: 1.7150 - val_accuracy: 0.4025\n",
            "Epoch 3/40\n",
            "313/313 [==============================] - 1s 5ms/step - loss: 1.6355 - accuracy: 0.4331 - val_loss: 1.7085 - val_accuracy: 0.4106\n",
            "Epoch 4/40\n",
            "313/313 [==============================] - 1s 5ms/step - loss: 1.5990 - accuracy: 0.4449 - val_loss: 1.6878 - val_accuracy: 0.4142\n",
            "Epoch 5/40\n",
            "313/313 [==============================] - 1s 5ms/step - loss: 1.5614 - accuracy: 0.4600 - val_loss: 1.6763 - val_accuracy: 0.4235\n",
            "Epoch 6/40\n",
            "313/313 [==============================] - 1s 4ms/step - loss: 1.5281 - accuracy: 0.4690 - val_loss: 1.6407 - val_accuracy: 0.4294\n",
            "Epoch 7/40\n",
            "313/313 [==============================] - 1s 4ms/step - loss: 1.5009 - accuracy: 0.4791 - val_loss: 1.6398 - val_accuracy: 0.4337\n",
            "Epoch 8/40\n",
            "313/313 [==============================] - 2s 5ms/step - loss: 1.4717 - accuracy: 0.4895 - val_loss: 1.6449 - val_accuracy: 0.4326\n",
            "Epoch 9/40\n",
            "313/313 [==============================] - 2s 6ms/step - loss: 1.4468 - accuracy: 0.4985 - val_loss: 1.6326 - val_accuracy: 0.4366\n",
            "Epoch 10/40\n",
            "313/313 [==============================] - 1s 5ms/step - loss: 1.4204 - accuracy: 0.5072 - val_loss: 1.6346 - val_accuracy: 0.4390\n",
            "Epoch 11/40\n",
            "313/313 [==============================] - 1s 5ms/step - loss: 1.4037 - accuracy: 0.5138 - val_loss: 1.6185 - val_accuracy: 0.4367\n",
            "Epoch 12/40\n",
            "313/313 [==============================] - 1s 5ms/step - loss: 1.3758 - accuracy: 0.5216 - val_loss: 1.6267 - val_accuracy: 0.4414\n",
            "Epoch 13/40\n",
            "313/313 [==============================] - 1s 5ms/step - loss: 1.3492 - accuracy: 0.5329 - val_loss: 1.6361 - val_accuracy: 0.4408\n",
            "Epoch 14/40\n",
            "313/313 [==============================] - 1s 4ms/step - loss: 1.3355 - accuracy: 0.5369 - val_loss: 1.6263 - val_accuracy: 0.4439\n",
            "Epoch 15/40\n",
            "313/313 [==============================] - 1s 4ms/step - loss: 1.3074 - accuracy: 0.5456 - val_loss: 1.6263 - val_accuracy: 0.4460\n",
            "Epoch 16/40\n",
            "313/313 [==============================] - 1s 5ms/step - loss: 1.2970 - accuracy: 0.5460 - val_loss: 1.6193 - val_accuracy: 0.4485\n",
            "Epoch 17/40\n",
            "313/313 [==============================] - 2s 6ms/step - loss: 1.2665 - accuracy: 0.5588 - val_loss: 1.6283 - val_accuracy: 0.4433\n",
            "Epoch 18/40\n",
            "313/313 [==============================] - 1s 4ms/step - loss: 1.2500 - accuracy: 0.5654 - val_loss: 1.6373 - val_accuracy: 0.4434\n",
            "Epoch 19/40\n",
            "313/313 [==============================] - 1s 5ms/step - loss: 1.2325 - accuracy: 0.5731 - val_loss: 1.6471 - val_accuracy: 0.4491\n",
            "Epoch 20/40\n",
            "313/313 [==============================] - 1s 5ms/step - loss: 1.2170 - accuracy: 0.5775 - val_loss: 1.6528 - val_accuracy: 0.4423\n",
            "Epoch 21/40\n",
            "313/313 [==============================] - 1s 4ms/step - loss: 1.2008 - accuracy: 0.5831 - val_loss: 1.6521 - val_accuracy: 0.4450\n",
            "Epoch 22/40\n",
            "313/313 [==============================] - 1s 4ms/step - loss: 1.1789 - accuracy: 0.5881 - val_loss: 1.6748 - val_accuracy: 0.4451\n",
            "Epoch 23/40\n",
            "313/313 [==============================] - 1s 5ms/step - loss: 1.1661 - accuracy: 0.5955 - val_loss: 1.6615 - val_accuracy: 0.4464\n",
            "Epoch 24/40\n",
            "313/313 [==============================] - 1s 4ms/step - loss: 1.1381 - accuracy: 0.6078 - val_loss: 1.6811 - val_accuracy: 0.4471\n",
            "Epoch 25/40\n",
            "313/313 [==============================] - 2s 5ms/step - loss: 1.1260 - accuracy: 0.6087 - val_loss: 1.6726 - val_accuracy: 0.4531\n",
            "Epoch 26/40\n",
            "313/313 [==============================] - 2s 6ms/step - loss: 1.0945 - accuracy: 0.6220 - val_loss: 1.6994 - val_accuracy: 0.4446\n",
            "Epoch 27/40\n",
            "313/313 [==============================] - 1s 4ms/step - loss: 1.0888 - accuracy: 0.6251 - val_loss: 1.7012 - val_accuracy: 0.4425\n",
            "Epoch 28/40\n",
            "313/313 [==============================] - 1s 4ms/step - loss: 1.0680 - accuracy: 0.6311 - val_loss: 1.7049 - val_accuracy: 0.4449\n",
            "Epoch 29/40\n",
            "313/313 [==============================] - 1s 4ms/step - loss: 1.0545 - accuracy: 0.6351 - val_loss: 1.7281 - val_accuracy: 0.4449\n",
            "Epoch 30/40\n",
            "313/313 [==============================] - 1s 5ms/step - loss: 1.0398 - accuracy: 0.6393 - val_loss: 1.7319 - val_accuracy: 0.4469\n",
            "Epoch 31/40\n",
            "313/313 [==============================] - 1s 4ms/step - loss: 1.0293 - accuracy: 0.6418 - val_loss: 1.7317 - val_accuracy: 0.4489\n",
            "Epoch 32/40\n",
            "313/313 [==============================] - 1s 4ms/step - loss: 1.0081 - accuracy: 0.6525 - val_loss: 1.7397 - val_accuracy: 0.4461\n",
            "Epoch 33/40\n",
            "313/313 [==============================] - 1s 5ms/step - loss: 0.9901 - accuracy: 0.6591 - val_loss: 1.7405 - val_accuracy: 0.4491\n",
            "Epoch 34/40\n",
            "313/313 [==============================] - 2s 6ms/step - loss: 0.9756 - accuracy: 0.6635 - val_loss: 1.7530 - val_accuracy: 0.4522\n",
            "Epoch 35/40\n",
            "313/313 [==============================] - 1s 5ms/step - loss: 0.9672 - accuracy: 0.6669 - val_loss: 1.7771 - val_accuracy: 0.4485\n",
            "Epoch 36/40\n",
            "313/313 [==============================] - 1s 4ms/step - loss: 0.9451 - accuracy: 0.6754 - val_loss: 1.8131 - val_accuracy: 0.4414\n",
            "Epoch 37/40\n",
            "313/313 [==============================] - 1s 4ms/step - loss: 0.9403 - accuracy: 0.6784 - val_loss: 1.7932 - val_accuracy: 0.4438\n",
            "Epoch 38/40\n",
            "313/313 [==============================] - 1s 4ms/step - loss: 0.9108 - accuracy: 0.6877 - val_loss: 1.8101 - val_accuracy: 0.4460\n",
            "Epoch 39/40\n",
            "313/313 [==============================] - 1s 5ms/step - loss: 0.8973 - accuracy: 0.6900 - val_loss: 1.8300 - val_accuracy: 0.4464\n",
            "Epoch 40/40\n",
            "313/313 [==============================] - 1s 4ms/step - loss: 0.8864 - accuracy: 0.6951 - val_loss: 1.8499 - val_accuracy: 0.4385\n"
          ]
        }
      ]
    },
    {
      "cell_type": "markdown",
      "metadata": {
        "id": "uFqhzV85xprJ"
      },
      "source": [
        "Let's plot the training and validation loss and accuracy curves:"
      ]
    },
    {
      "cell_type": "code",
      "metadata": {
        "id": "BYmXGkLCxprK",
        "colab": {
          "base_uri": "https://localhost:8080/",
          "height": 881
        },
        "outputId": "450a3bb4-5a4f-4ec1-a786-044f1b4680ee"
      },
      "source": [
        "def plot_history(network_history):\n",
        "    plt.figure()\n",
        "    plt.xlabel('Epochs')\n",
        "    plt.ylabel('Loss')\n",
        "    plt.plot(network_history.history['loss'])\n",
        "    plt.plot(network_history.history['val_loss'])\n",
        "    plt.legend(['Training', 'Validation'])\n",
        "\n",
        "    plt.figure()\n",
        "    plt.xlabel('Epochs')\n",
        "    plt.ylabel('Accuracy')\n",
        "    plt.plot(network_history.history['accuracy'])\n",
        "    plt.plot(network_history.history['val_accuracy'])\n",
        "    plt.legend(['Training', 'Validation'], loc='lower right')\n",
        "    plt.show()\n",
        "\n",
        "plot_history(network_history)"
      ],
      "execution_count": 31,
      "outputs": [
        {
          "output_type": "display_data",
          "data": {
            "text/plain": [
              "<Figure size 640x480 with 1 Axes>"
            ],
            "image/png": "[encoded data removed]"
          },
          "metadata": {}
        },
        {
          "output_type": "display_data",
          "data": {
            "text/plain": [
              "<Figure size 640x480 with 1 Axes>"
            ],
            "image/png": "[encoded data removed]"
          },
          "metadata": {}
        }
      ]
    },
    {
      "cell_type": "markdown",
      "source": [
        "What do you think? Does it overfit?\n",
        "\n",
        "Notes by me: From the plot, it is clear that only the training accuracy has improved over many epochs, showing that the model is overfitted."
      ],
      "metadata": {
        "id": "tgG7QeXF-dx6"
      }
    },
    {
      "cell_type": "markdown",
      "metadata": {
        "id": "_Q9rIeBBxprO"
      },
      "source": [
        "# Inspecting the model"
      ]
    },
    {
      "cell_type": "code",
      "metadata": {
        "id": "6r2AmmoMxprP",
        "colab": {
          "base_uri": "https://localhost:8080/"
        },
        "outputId": "7473ef45-c1b8-4b6e-c09c-5d92aef0a999"
      },
      "source": [
        "model.summary()"
      ],
      "execution_count": 32,
      "outputs": [
        {
          "output_type": "stream",
          "name": "stdout",
          "text": [
            "Model: \"sequential\"\n",
            "_________________________________________________________________\n",
            " Layer (type)                Output Shape              Param #   \n",
            "=================================================================\n",
            " dense (Dense)               (None, 128)               393344    \n",
            "                                                                 \n",
            " dense_1 (Dense)             (None, 128)               16512     \n",
            "                                                                 \n",
            " dense_2 (Dense)             (None, 10)                1290      \n",
            "                                                                 \n",
            "=================================================================\n",
            "Total params: 411146 (1.57 MB)\n",
            "Trainable params: 411146 (1.57 MB)\n",
            "Non-trainable params: 0 (0.00 Byte)\n",
            "_________________________________________________________________\n"
          ]
        }
      ]
    },
    {
      "cell_type": "code",
      "metadata": {
        "id": "D3-bVDVuxprS",
        "colab": {
          "base_uri": "https://localhost:8080/"
        },
        "outputId": "51d4b058-2c32-486b-b494-664d62a57b73"
      },
      "source": [
        "print('Input: ', model.input)"
      ],
      "execution_count": 33,
      "outputs": [
        {
          "output_type": "stream",
          "name": "stdout",
          "text": [
            "Input:  KerasTensor(type_spec=TensorSpec(shape=(None, 3072), dtype=tf.float32, name='dense_input'), name='dense_input', description=\"created by layer 'dense_input'\")\n"
          ]
        }
      ]
    },
    {
      "cell_type": "code",
      "metadata": {
        "id": "Da2OJ3DmxprX",
        "colab": {
          "base_uri": "https://localhost:8080/"
        },
        "outputId": "adc39829-d8dc-4a59-eea6-4e910714371e"
      },
      "source": [
        "print('Layers:\\n')\n",
        "for layer in model.layers:\n",
        "    print(\"Layer's name: \", layer.name, ', trainable: ', layer.trainable)\n",
        "    print(layer.get_config(),'\\n')"
      ],
      "execution_count": 34,
      "outputs": [
        {
          "output_type": "stream",
          "name": "stdout",
          "text": [
            "Layers:\n",
            "\n",
            "Layer's name:  dense , trainable:  True\n",
            "{'name': 'dense', 'trainable': True, 'dtype': 'float32', 'batch_input_shape': (None, 3072), 'units': 128, 'activation': 'tanh', 'use_bias': True, 'kernel_initializer': {'module': 'keras.initializers', 'class_name': 'GlorotUniform', 'config': {'seed': None}, 'registered_name': None}, 'bias_initializer': {'module': 'keras.initializers', 'class_name': 'Zeros', 'config': {}, 'registered_name': None}, 'kernel_regularizer': None, 'bias_regularizer': None, 'activity_regularizer': None, 'kernel_constraint': None, 'bias_constraint': None} \n",
            "\n",
            "Layer's name:  dense_1 , trainable:  True\n",
            "{'name': 'dense_1', 'trainable': True, 'dtype': 'float32', 'units': 128, 'activation': 'tanh', 'use_bias': True, 'kernel_initializer': {'module': 'keras.initializers', 'class_name': 'GlorotUniform', 'config': {'seed': None}, 'registered_name': None}, 'bias_initializer': {'module': 'keras.initializers', 'class_name': 'Zeros', 'config': {}, 'registered_name': None}, 'kernel_regularizer': None, 'bias_regularizer': None, 'activity_regularizer': None, 'kernel_constraint': None, 'bias_constraint': None} \n",
            "\n",
            "Layer's name:  dense_2 , trainable:  True\n",
            "{'name': 'dense_2', 'trainable': True, 'dtype': 'float32', 'units': 10, 'activation': 'softmax', 'use_bias': True, 'kernel_initializer': {'module': 'keras.initializers', 'class_name': 'GlorotUniform', 'config': {'seed': None}, 'registered_name': None}, 'bias_initializer': {'module': 'keras.initializers', 'class_name': 'Zeros', 'config': {}, 'registered_name': None}, 'kernel_regularizer': None, 'bias_regularizer': None, 'activity_regularizer': None, 'kernel_constraint': None, 'bias_constraint': None} \n",
            "\n"
          ]
        }
      ]
    },
    {
      "cell_type": "code",
      "metadata": {
        "id": "AtVX3M3lxprc",
        "colab": {
          "base_uri": "https://localhost:8080/"
        },
        "outputId": "dcdb7aad-8d2a-4989-fcac-9e98c34fd89d"
      },
      "source": [
        "print('Output: ', model.output)"
      ],
      "execution_count": 35,
      "outputs": [
        {
          "output_type": "stream",
          "name": "stdout",
          "text": [
            "Output:  KerasTensor(type_spec=TensorSpec(shape=(None, 10), dtype=tf.float32, name=None), name='dense_2/Softmax:0', description=\"created by layer 'dense_2'\")\n"
          ]
        }
      ]
    },
    {
      "cell_type": "markdown",
      "source": [
        "## 2.1. Exercise\n",
        "Introduce [early stopping](https://www.tensorflow.org/api_docs/python/tf/keras/callbacks/EarlyStopping) and [dropout](https://www.tensorflow.org/api_docs/python/tf/keras/layers/Dropout) with a rate between 0.1..0.5. Tips:\n",
        "\n",
        "* Insert the dropout layer between the two Dense layers.\n",
        "* Set the patience of early stopping to 5.\n",
        "* Set the number of epochs to a very high number.\n",
        "* Don't forget to restore best weights after early stopping.\n",
        "* And also set early stopping to monitor validation accuracy (the default value is validation loss -- which is categorical crossentropy now).\n",
        "\n",
        "Compile and train the model. Attempt to increase the validation accuracy as much as possible by making changes to the dropout rate. Inspect the effects of the modifications."
      ],
      "metadata": {
        "id": "E-hHfs9qA_iO"
      }
    },
    {
      "cell_type": "code",
      "source": [
        "es = EarlyStopping(\n",
        "      monitor='val_accuracy',\n",
        "      patience=5,\n",
        "      min_delta=0.0001,\n",
        "      restore_best_weights=True,\n",
        "    )"
      ],
      "metadata": {
        "id": "NwXrPzOgEBG-"
      },
      "execution_count": 36,
      "outputs": []
    },
    {
      "cell_type": "code",
      "source": [
        "# model definition with dropout\n",
        "dropout_rate = 0.4\n",
        "model = Sequential()\n",
        "model.add(Dense(128, activation='tanh', input_shape=(flattened_dim,)))\n",
        "model.add(Dropout(dropout_rate))\n",
        "model.add(Dense(128, activation='tanh'))\n",
        "model.add(Dense(nb_classes, activation='softmax'))\n",
        "\n",
        "# loss function and optimizer\n",
        "model.compile(loss='categorical_crossentropy', optimizer='adam', metrics=['accuracy'])"
      ],
      "metadata": {
        "id": "7hZEGzj8GFwP"
      },
      "execution_count": 37,
      "outputs": []
    },
    {
      "cell_type": "code",
      "source": [
        "# training with early stopping\n",
        "network_history = model.fit(X_train, Y_train,\n",
        "                            validation_data=(X_valid,Y_valid),\n",
        "                            batch_size=128,\n",
        "                            epochs=100000000000,\n",
        "                            verbose=1,\n",
        "                            callbacks=[es])"
      ],
      "metadata": {
        "id": "GCG54R-vGGWj",
        "colab": {
          "base_uri": "https://localhost:8080/"
        },
        "outputId": "0c6a8a9f-a53c-4307-8fac-3dc5be84f27c"
      },
      "execution_count": 38,
      "outputs": [
        {
          "output_type": "stream",
          "name": "stdout",
          "text": [
            "Epoch 1/100000000000\n",
            "313/313 [==============================] - 4s 5ms/step - loss: 1.9245 - accuracy: 0.3182 - val_loss: 1.7908 - val_accuracy: 0.3739\n",
            "Epoch 2/100000000000\n",
            "313/313 [==============================] - 1s 4ms/step - loss: 1.8177 - accuracy: 0.3605 - val_loss: 1.7647 - val_accuracy: 0.3800\n",
            "Epoch 3/100000000000\n",
            "313/313 [==============================] - 1s 4ms/step - loss: 1.7822 - accuracy: 0.3752 - val_loss: 1.7389 - val_accuracy: 0.3922\n",
            "Epoch 4/100000000000\n",
            "313/313 [==============================] - 1s 4ms/step - loss: 1.7521 - accuracy: 0.3857 - val_loss: 1.7186 - val_accuracy: 0.4053\n",
            "Epoch 5/100000000000\n",
            "313/313 [==============================] - 2s 5ms/step - loss: 1.7253 - accuracy: 0.3967 - val_loss: 1.6986 - val_accuracy: 0.4051\n",
            "Epoch 6/100000000000\n",
            "313/313 [==============================] - 2s 6ms/step - loss: 1.7030 - accuracy: 0.4023 - val_loss: 1.6878 - val_accuracy: 0.4076\n",
            "Epoch 7/100000000000\n",
            "313/313 [==============================] - 1s 4ms/step - loss: 1.6886 - accuracy: 0.4089 - val_loss: 1.6756 - val_accuracy: 0.4129\n",
            "Epoch 8/100000000000\n",
            "313/313 [==============================] - 1s 4ms/step - loss: 1.6659 - accuracy: 0.4171 - val_loss: 1.6632 - val_accuracy: 0.4210\n",
            "Epoch 9/100000000000\n",
            "313/313 [==============================] - 1s 4ms/step - loss: 1.6561 - accuracy: 0.4207 - val_loss: 1.6440 - val_accuracy: 0.4285\n",
            "Epoch 10/100000000000\n",
            "313/313 [==============================] - 1s 5ms/step - loss: 1.6451 - accuracy: 0.4239 - val_loss: 1.6402 - val_accuracy: 0.4277\n",
            "Epoch 11/100000000000\n",
            "313/313 [==============================] - 1s 5ms/step - loss: 1.6284 - accuracy: 0.4292 - val_loss: 1.6298 - val_accuracy: 0.4312\n",
            "Epoch 12/100000000000\n",
            "313/313 [==============================] - 1s 4ms/step - loss: 1.6195 - accuracy: 0.4317 - val_loss: 1.6248 - val_accuracy: 0.4386\n",
            "Epoch 13/100000000000\n",
            "313/313 [==============================] - 1s 4ms/step - loss: 1.6105 - accuracy: 0.4354 - val_loss: 1.6163 - val_accuracy: 0.4300\n",
            "Epoch 14/100000000000\n",
            "313/313 [==============================] - 2s 6ms/step - loss: 1.6032 - accuracy: 0.4374 - val_loss: 1.6111 - val_accuracy: 0.4359\n",
            "Epoch 15/100000000000\n",
            "313/313 [==============================] - 1s 5ms/step - loss: 1.5839 - accuracy: 0.4429 - val_loss: 1.6000 - val_accuracy: 0.4393\n",
            "Epoch 16/100000000000\n",
            "313/313 [==============================] - 1s 5ms/step - loss: 1.5782 - accuracy: 0.4455 - val_loss: 1.5869 - val_accuracy: 0.4463\n",
            "Epoch 17/100000000000\n",
            "313/313 [==============================] - 1s 4ms/step - loss: 1.5679 - accuracy: 0.4490 - val_loss: 1.5963 - val_accuracy: 0.4433\n",
            "Epoch 18/100000000000\n",
            "313/313 [==============================] - 1s 4ms/step - loss: 1.5668 - accuracy: 0.4475 - val_loss: 1.5819 - val_accuracy: 0.4449\n",
            "Epoch 19/100000000000\n",
            "313/313 [==============================] - 1s 5ms/step - loss: 1.5518 - accuracy: 0.4524 - val_loss: 1.5693 - val_accuracy: 0.4510\n",
            "Epoch 20/100000000000\n",
            "313/313 [==============================] - 1s 4ms/step - loss: 1.5457 - accuracy: 0.4568 - val_loss: 1.5836 - val_accuracy: 0.4462\n",
            "Epoch 21/100000000000\n",
            "313/313 [==============================] - 1s 5ms/step - loss: 1.5376 - accuracy: 0.4548 - val_loss: 1.5642 - val_accuracy: 0.4514\n",
            "Epoch 22/100000000000\n",
            "313/313 [==============================] - 2s 5ms/step - loss: 1.5354 - accuracy: 0.4581 - val_loss: 1.5558 - val_accuracy: 0.4501\n",
            "Epoch 23/100000000000\n",
            "313/313 [==============================] - 2s 6ms/step - loss: 1.5245 - accuracy: 0.4604 - val_loss: 1.5568 - val_accuracy: 0.4514\n",
            "Epoch 24/100000000000\n",
            "313/313 [==============================] - 1s 5ms/step - loss: 1.5241 - accuracy: 0.4625 - val_loss: 1.5512 - val_accuracy: 0.4498\n",
            "Epoch 25/100000000000\n",
            "313/313 [==============================] - 1s 4ms/step - loss: 1.5113 - accuracy: 0.4665 - val_loss: 1.5471 - val_accuracy: 0.4615\n",
            "Epoch 26/100000000000\n",
            "313/313 [==============================] - 1s 4ms/step - loss: 1.5095 - accuracy: 0.4704 - val_loss: 1.5424 - val_accuracy: 0.4603\n",
            "Epoch 27/100000000000\n",
            "313/313 [==============================] - 1s 4ms/step - loss: 1.5002 - accuracy: 0.4699 - val_loss: 1.5329 - val_accuracy: 0.4659\n",
            "Epoch 28/100000000000\n",
            "313/313 [==============================] - 1s 5ms/step - loss: 1.4949 - accuracy: 0.4723 - val_loss: 1.5321 - val_accuracy: 0.4618\n",
            "Epoch 29/100000000000\n",
            "313/313 [==============================] - 1s 4ms/step - loss: 1.4843 - accuracy: 0.4763 - val_loss: 1.5272 - val_accuracy: 0.4654\n",
            "Epoch 30/100000000000\n",
            "313/313 [==============================] - 2s 5ms/step - loss: 1.4810 - accuracy: 0.4791 - val_loss: 1.5188 - val_accuracy: 0.4612\n",
            "Epoch 31/100000000000\n",
            "313/313 [==============================] - 2s 6ms/step - loss: 1.4778 - accuracy: 0.4781 - val_loss: 1.5253 - val_accuracy: 0.4621\n",
            "Epoch 32/100000000000\n",
            "313/313 [==============================] - 1s 5ms/step - loss: 1.4872 - accuracy: 0.4737 - val_loss: 1.5228 - val_accuracy: 0.4680\n",
            "Epoch 33/100000000000\n",
            "313/313 [==============================] - 1s 4ms/step - loss: 1.4760 - accuracy: 0.4777 - val_loss: 1.5177 - val_accuracy: 0.4673\n",
            "Epoch 34/100000000000\n",
            "313/313 [==============================] - 1s 5ms/step - loss: 1.4711 - accuracy: 0.4821 - val_loss: 1.5220 - val_accuracy: 0.4673\n",
            "Epoch 35/100000000000\n",
            "313/313 [==============================] - 1s 5ms/step - loss: 1.4663 - accuracy: 0.4837 - val_loss: 1.5186 - val_accuracy: 0.4655\n",
            "Epoch 36/100000000000\n",
            "313/313 [==============================] - 1s 4ms/step - loss: 1.4534 - accuracy: 0.4860 - val_loss: 1.5212 - val_accuracy: 0.4698\n",
            "Epoch 37/100000000000\n",
            "313/313 [==============================] - 1s 5ms/step - loss: 1.4546 - accuracy: 0.4843 - val_loss: 1.5027 - val_accuracy: 0.4728\n",
            "Epoch 38/100000000000\n",
            "313/313 [==============================] - 1s 4ms/step - loss: 1.4500 - accuracy: 0.4890 - val_loss: 1.5081 - val_accuracy: 0.4708\n",
            "Epoch 39/100000000000\n",
            "313/313 [==============================] - 2s 6ms/step - loss: 1.4482 - accuracy: 0.4874 - val_loss: 1.5056 - val_accuracy: 0.4721\n",
            "Epoch 40/100000000000\n",
            "313/313 [==============================] - 1s 4ms/step - loss: 1.4498 - accuracy: 0.4857 - val_loss: 1.5013 - val_accuracy: 0.4715\n",
            "Epoch 41/100000000000\n",
            "313/313 [==============================] - 1s 5ms/step - loss: 1.4395 - accuracy: 0.4895 - val_loss: 1.4999 - val_accuracy: 0.4752\n",
            "Epoch 42/100000000000\n",
            "313/313 [==============================] - 1s 4ms/step - loss: 1.4336 - accuracy: 0.4930 - val_loss: 1.4944 - val_accuracy: 0.4770\n",
            "Epoch 43/100000000000\n",
            "313/313 [==============================] - 1s 4ms/step - loss: 1.4360 - accuracy: 0.4918 - val_loss: 1.4960 - val_accuracy: 0.4752\n",
            "Epoch 44/100000000000\n",
            "313/313 [==============================] - 1s 4ms/step - loss: 1.4265 - accuracy: 0.4956 - val_loss: 1.4983 - val_accuracy: 0.4722\n",
            "Epoch 45/100000000000\n",
            "313/313 [==============================] - 1s 4ms/step - loss: 1.4273 - accuracy: 0.4959 - val_loss: 1.4969 - val_accuracy: 0.4727\n",
            "Epoch 46/100000000000\n",
            "313/313 [==============================] - 1s 4ms/step - loss: 1.4236 - accuracy: 0.4957 - val_loss: 1.4988 - val_accuracy: 0.4744\n",
            "Epoch 47/100000000000\n",
            "313/313 [==============================] - 2s 5ms/step - loss: 1.4227 - accuracy: 0.4969 - val_loss: 1.4993 - val_accuracy: 0.4727\n"
          ]
        }
      ]
    },
    {
      "cell_type": "markdown",
      "source": [
        "## 2.2 Exercise\n",
        "Change the [activation function of the dense layers (except the last one)](https://www.tensorflow.org/api_docs/python/tf/keras/layers/Dense) to rectified linear unit (ReLU) and the [weight initialization](https://www.tensorflow.org/api_docs/python/tf/keras/initializers) to the theoretically best one. Use the original model's code.\n",
        "\n",
        "Compile and train the model. Inspect the effects of the modifications."
      ],
      "metadata": {
        "id": "zQCDM1o1BBtF"
      }
    },
    {
      "cell_type": "code",
      "source": [
        "# model definition with relu\n",
        "model = Sequential()\n",
        "model.add(Dense(128, activation='ReLU', kernel_initializer='he_normal', input_shape=(flattened_dim,)))\n",
        "model.add(Dense(128, activation='ReLU', kernel_initializer='he_normal'))\n",
        "model.add(Dense(nb_classes, activation='softmax'))\n",
        "\n",
        "# loss function and optimizer\n",
        "model.compile(loss='categorical_crossentropy', optimizer='adam', metrics=['accuracy'])"
      ],
      "metadata": {
        "id": "YjHAAh-wGu9O"
      },
      "execution_count": 39,
      "outputs": []
    },
    {
      "cell_type": "code",
      "source": [
        "# training\n",
        "network_history = model.fit(X_train, Y_train,\n",
        "                            validation_data=(X_valid,Y_valid),\n",
        "                            batch_size=128,\n",
        "                            epochs=40,\n",
        "                            verbose=1)"
      ],
      "metadata": {
        "id": "rarwKM1wGxMz",
        "colab": {
          "base_uri": "https://localhost:8080/"
        },
        "outputId": "a2cceb3b-7c6e-48d5-f1ed-7f5ae4c8fd00"
      },
      "execution_count": 40,
      "outputs": [
        {
          "output_type": "stream",
          "name": "stdout",
          "text": [
            "Epoch 1/40\n",
            "313/313 [==============================] - 3s 5ms/step - loss: 1.8339 - accuracy: 0.3758 - val_loss: 1.6919 - val_accuracy: 0.4178\n",
            "Epoch 2/40\n",
            "313/313 [==============================] - 1s 5ms/step - loss: 1.5426 - accuracy: 0.4603 - val_loss: 1.6172 - val_accuracy: 0.4399\n",
            "Epoch 3/40\n",
            "313/313 [==============================] - 2s 6ms/step - loss: 1.4238 - accuracy: 0.5025 - val_loss: 1.5705 - val_accuracy: 0.4580\n",
            "Epoch 4/40\n",
            "313/313 [==============================] - 1s 5ms/step - loss: 1.3412 - accuracy: 0.5304 - val_loss: 1.5259 - val_accuracy: 0.4759\n",
            "Epoch 5/40\n",
            "313/313 [==============================] - 1s 4ms/step - loss: 1.2679 - accuracy: 0.5545 - val_loss: 1.5048 - val_accuracy: 0.4825\n",
            "Epoch 6/40\n",
            "313/313 [==============================] - 1s 5ms/step - loss: 1.2050 - accuracy: 0.5774 - val_loss: 1.5237 - val_accuracy: 0.4865\n",
            "Epoch 7/40\n",
            "313/313 [==============================] - 1s 4ms/step - loss: 1.1544 - accuracy: 0.5975 - val_loss: 1.5205 - val_accuracy: 0.4933\n",
            "Epoch 8/40\n",
            "313/313 [==============================] - 1s 5ms/step - loss: 1.1124 - accuracy: 0.6130 - val_loss: 1.5262 - val_accuracy: 0.4917\n",
            "Epoch 9/40\n",
            "313/313 [==============================] - 1s 4ms/step - loss: 1.0602 - accuracy: 0.6302 - val_loss: 1.5408 - val_accuracy: 0.4933\n",
            "Epoch 10/40\n",
            "313/313 [==============================] - 1s 5ms/step - loss: 1.0159 - accuracy: 0.6429 - val_loss: 1.5766 - val_accuracy: 0.4849\n",
            "Epoch 11/40\n",
            "313/313 [==============================] - 2s 5ms/step - loss: 0.9687 - accuracy: 0.6623 - val_loss: 1.5882 - val_accuracy: 0.5030\n",
            "Epoch 12/40\n",
            "313/313 [==============================] - 2s 6ms/step - loss: 0.9339 - accuracy: 0.6753 - val_loss: 1.6073 - val_accuracy: 0.5020\n",
            "Epoch 13/40\n",
            "313/313 [==============================] - 1s 4ms/step - loss: 0.8943 - accuracy: 0.6860 - val_loss: 1.6700 - val_accuracy: 0.4924\n",
            "Epoch 14/40\n",
            "313/313 [==============================] - 1s 4ms/step - loss: 0.8590 - accuracy: 0.6971 - val_loss: 1.6582 - val_accuracy: 0.4957\n",
            "Epoch 15/40\n",
            "313/313 [==============================] - 1s 5ms/step - loss: 0.8171 - accuracy: 0.7136 - val_loss: 1.7357 - val_accuracy: 0.4898\n",
            "Epoch 16/40\n",
            "313/313 [==============================] - 1s 5ms/step - loss: 0.7828 - accuracy: 0.7250 - val_loss: 1.7868 - val_accuracy: 0.4893\n",
            "Epoch 17/40\n",
            "313/313 [==============================] - 1s 4ms/step - loss: 0.7525 - accuracy: 0.7356 - val_loss: 1.7983 - val_accuracy: 0.4965\n",
            "Epoch 18/40\n",
            "313/313 [==============================] - 1s 4ms/step - loss: 0.7143 - accuracy: 0.7505 - val_loss: 1.8584 - val_accuracy: 0.4907\n",
            "Epoch 19/40\n",
            "313/313 [==============================] - 1s 5ms/step - loss: 0.6925 - accuracy: 0.7572 - val_loss: 1.9028 - val_accuracy: 0.4900\n",
            "Epoch 20/40\n",
            "313/313 [==============================] - 2s 6ms/step - loss: 0.6618 - accuracy: 0.7680 - val_loss: 1.9574 - val_accuracy: 0.4907\n",
            "Epoch 21/40\n",
            "313/313 [==============================] - 1s 5ms/step - loss: 0.6400 - accuracy: 0.7750 - val_loss: 2.0256 - val_accuracy: 0.4869\n",
            "Epoch 22/40\n",
            "313/313 [==============================] - 1s 5ms/step - loss: 0.6157 - accuracy: 0.7838 - val_loss: 2.0432 - val_accuracy: 0.4927\n",
            "Epoch 23/40\n",
            "313/313 [==============================] - 1s 5ms/step - loss: 0.5864 - accuracy: 0.7940 - val_loss: 2.1220 - val_accuracy: 0.4811\n",
            "Epoch 24/40\n",
            "313/313 [==============================] - 1s 4ms/step - loss: 0.5537 - accuracy: 0.8069 - val_loss: 2.1914 - val_accuracy: 0.4815\n",
            "Epoch 25/40\n",
            "313/313 [==============================] - 1s 4ms/step - loss: 0.5474 - accuracy: 0.8076 - val_loss: 2.2267 - val_accuracy: 0.4821\n",
            "Epoch 26/40\n",
            "313/313 [==============================] - 1s 4ms/step - loss: 0.5176 - accuracy: 0.8173 - val_loss: 2.3107 - val_accuracy: 0.4788\n",
            "Epoch 27/40\n",
            "313/313 [==============================] - 1s 4ms/step - loss: 0.5017 - accuracy: 0.8232 - val_loss: 2.3973 - val_accuracy: 0.4736\n",
            "Epoch 28/40\n",
            "313/313 [==============================] - 2s 5ms/step - loss: 0.4785 - accuracy: 0.8349 - val_loss: 2.4219 - val_accuracy: 0.4797\n",
            "Epoch 29/40\n",
            "313/313 [==============================] - 2s 5ms/step - loss: 0.4709 - accuracy: 0.8346 - val_loss: 2.4765 - val_accuracy: 0.4767\n",
            "Epoch 30/40\n",
            "313/313 [==============================] - 1s 5ms/step - loss: 0.4334 - accuracy: 0.8492 - val_loss: 2.5156 - val_accuracy: 0.4787\n",
            "Epoch 31/40\n",
            "313/313 [==============================] - 1s 4ms/step - loss: 0.4282 - accuracy: 0.8489 - val_loss: 2.6126 - val_accuracy: 0.4751\n",
            "Epoch 32/40\n",
            "313/313 [==============================] - 1s 5ms/step - loss: 0.4125 - accuracy: 0.8550 - val_loss: 2.6291 - val_accuracy: 0.4762\n",
            "Epoch 33/40\n",
            "313/313 [==============================] - 1s 5ms/step - loss: 0.4059 - accuracy: 0.8576 - val_loss: 2.7436 - val_accuracy: 0.4804\n",
            "Epoch 34/40\n",
            "313/313 [==============================] - 1s 4ms/step - loss: 0.3790 - accuracy: 0.8677 - val_loss: 2.7641 - val_accuracy: 0.4814\n",
            "Epoch 35/40\n",
            "313/313 [==============================] - 1s 4ms/step - loss: 0.3722 - accuracy: 0.8680 - val_loss: 2.8592 - val_accuracy: 0.4820\n",
            "Epoch 36/40\n",
            "313/313 [==============================] - 1s 5ms/step - loss: 0.3599 - accuracy: 0.8755 - val_loss: 2.9909 - val_accuracy: 0.4751\n",
            "Epoch 37/40\n",
            "313/313 [==============================] - 2s 6ms/step - loss: 0.3646 - accuracy: 0.8709 - val_loss: 3.0102 - val_accuracy: 0.4740\n",
            "Epoch 38/40\n",
            "313/313 [==============================] - 1s 4ms/step - loss: 0.3413 - accuracy: 0.8804 - val_loss: 3.0168 - val_accuracy: 0.4824\n",
            "Epoch 39/40\n",
            "313/313 [==============================] - 1s 4ms/step - loss: 0.3340 - accuracy: 0.8834 - val_loss: 3.0975 - val_accuracy: 0.4726\n",
            "Epoch 40/40\n",
            "313/313 [==============================] - 1s 5ms/step - loss: 0.3164 - accuracy: 0.8902 - val_loss: 3.1473 - val_accuracy: 0.4761\n"
          ]
        }
      ]
    },
    {
      "cell_type": "markdown",
      "source": [
        "# 2.3. Exercise\n",
        "Based on the modifications above, and by any further modifications (e.g. more layers, less layers, more neurons/layer, etc.) to the model design, find a combination that is able to achieve **validation accuracy, that is higher than 53%**.\n"
      ],
      "metadata": {
        "id": "j1tGVPdD-pp3"
      }
    },
    {
      "cell_type": "code",
      "source": [
        "es = EarlyStopping(\n",
        "      monitor='val_accuracy',\n",
        "      patience=5,\n",
        "      min_delta=0.0001,\n",
        "      restore_best_weights=True,\n",
        "    )"
      ],
      "metadata": {
        "id": "5dBQxJHIHrbd"
      },
      "execution_count": 41,
      "outputs": []
    },
    {
      "cell_type": "code",
      "source": [
        "# model definition\n",
        "dropout_rate = 0.41\n",
        "model = Sequential()\n",
        "model.add(Dense(256, activation='ReLU', kernel_initializer='he_normal', input_shape=(flattened_dim,)))\n",
        "model.add(Dropout(dropout_rate))\n",
        "model.add(Dense(256, activation='ReLU', kernel_initializer='he_normal'))\n",
        "model.add(Dense(nb_classes, activation='softmax'))\n",
        "\n",
        "# loss function and optimizer\n",
        "model.compile(loss='categorical_crossentropy', optimizer='adam', metrics=['accuracy'])"
      ],
      "metadata": {
        "id": "PuxHOqLt-3Nd"
      },
      "execution_count": 53,
      "outputs": []
    },
    {
      "cell_type": "code",
      "source": [
        "# training\n",
        "# training with early stopping\n",
        "network_history = model.fit(X_train, Y_train,\n",
        "                            validation_data=(X_valid,Y_valid),\n",
        "                            batch_size=128,\n",
        "                            epochs=100000000000,\n",
        "                            verbose=1,\n",
        "                            callbacks=[es])"
      ],
      "metadata": {
        "id": "u8tFNCNVHyt9",
        "colab": {
          "base_uri": "https://localhost:8080/"
        },
        "outputId": "83ee8716-83a7-4666-e0e2-6715e2f6455a"
      },
      "execution_count": 54,
      "outputs": [
        {
          "output_type": "stream",
          "name": "stdout",
          "text": [
            "Epoch 1/100000000000\n",
            "313/313 [==============================] - 3s 6ms/step - loss: 2.1140 - accuracy: 0.3127 - val_loss: 1.7026 - val_accuracy: 0.4036\n",
            "Epoch 2/100000000000\n",
            "313/313 [==============================] - 2s 5ms/step - loss: 1.7340 - accuracy: 0.3866 - val_loss: 1.6019 - val_accuracy: 0.4392\n",
            "Epoch 3/100000000000\n",
            "313/313 [==============================] - 1s 5ms/step - loss: 1.6258 - accuracy: 0.4207 - val_loss: 1.5512 - val_accuracy: 0.4525\n",
            "Epoch 4/100000000000\n",
            "313/313 [==============================] - 2s 5ms/step - loss: 1.5624 - accuracy: 0.4450 - val_loss: 1.5087 - val_accuracy: 0.4696\n",
            "Epoch 5/100000000000\n",
            "313/313 [==============================] - 2s 5ms/step - loss: 1.5206 - accuracy: 0.4561 - val_loss: 1.4834 - val_accuracy: 0.4850\n",
            "Epoch 6/100000000000\n",
            "313/313 [==============================] - 2s 6ms/step - loss: 1.4862 - accuracy: 0.4729 - val_loss: 1.4669 - val_accuracy: 0.4814\n",
            "Epoch 7/100000000000\n",
            "313/313 [==============================] - 1s 4ms/step - loss: 1.4645 - accuracy: 0.4791 - val_loss: 1.4505 - val_accuracy: 0.4907\n",
            "Epoch 8/100000000000\n",
            "313/313 [==============================] - 1s 5ms/step - loss: 1.4342 - accuracy: 0.4917 - val_loss: 1.4405 - val_accuracy: 0.4951\n",
            "Epoch 9/100000000000\n",
            "313/313 [==============================] - 2s 5ms/step - loss: 1.4178 - accuracy: 0.4959 - val_loss: 1.4310 - val_accuracy: 0.5011\n",
            "Epoch 10/100000000000\n",
            "313/313 [==============================] - 2s 5ms/step - loss: 1.3981 - accuracy: 0.5037 - val_loss: 1.4266 - val_accuracy: 0.5029\n",
            "Epoch 11/100000000000\n",
            "313/313 [==============================] - 2s 5ms/step - loss: 1.3743 - accuracy: 0.5124 - val_loss: 1.4147 - val_accuracy: 0.5057\n",
            "Epoch 12/100000000000\n",
            "313/313 [==============================] - 1s 5ms/step - loss: 1.3627 - accuracy: 0.5159 - val_loss: 1.3989 - val_accuracy: 0.5138\n",
            "Epoch 13/100000000000\n",
            "313/313 [==============================] - 2s 5ms/step - loss: 1.3481 - accuracy: 0.5224 - val_loss: 1.4030 - val_accuracy: 0.5082\n",
            "Epoch 14/100000000000\n",
            "313/313 [==============================] - 2s 6ms/step - loss: 1.3235 - accuracy: 0.5298 - val_loss: 1.3771 - val_accuracy: 0.5168\n",
            "Epoch 15/100000000000\n",
            "313/313 [==============================] - 2s 5ms/step - loss: 1.3176 - accuracy: 0.5314 - val_loss: 1.3800 - val_accuracy: 0.5179\n",
            "Epoch 16/100000000000\n",
            "313/313 [==============================] - 1s 4ms/step - loss: 1.3063 - accuracy: 0.5375 - val_loss: 1.3890 - val_accuracy: 0.5109\n",
            "Epoch 17/100000000000\n",
            "313/313 [==============================] - 2s 5ms/step - loss: 1.2917 - accuracy: 0.5445 - val_loss: 1.3855 - val_accuracy: 0.5112\n",
            "Epoch 18/100000000000\n",
            "313/313 [==============================] - 2s 5ms/step - loss: 1.2775 - accuracy: 0.5475 - val_loss: 1.3769 - val_accuracy: 0.5242\n",
            "Epoch 19/100000000000\n",
            "313/313 [==============================] - 1s 4ms/step - loss: 1.2645 - accuracy: 0.5512 - val_loss: 1.3758 - val_accuracy: 0.5191\n",
            "Epoch 20/100000000000\n",
            "313/313 [==============================] - 1s 4ms/step - loss: 1.2601 - accuracy: 0.5549 - val_loss: 1.3764 - val_accuracy: 0.5155\n",
            "Epoch 21/100000000000\n",
            "313/313 [==============================] - 2s 5ms/step - loss: 1.2374 - accuracy: 0.5588 - val_loss: 1.3563 - val_accuracy: 0.5277\n",
            "Epoch 22/100000000000\n",
            "313/313 [==============================] - 2s 6ms/step - loss: 1.2365 - accuracy: 0.5630 - val_loss: 1.3523 - val_accuracy: 0.5258\n",
            "Epoch 23/100000000000\n",
            "313/313 [==============================] - 1s 4ms/step - loss: 1.2246 - accuracy: 0.5627 - val_loss: 1.3469 - val_accuracy: 0.5298\n",
            "Epoch 24/100000000000\n",
            "313/313 [==============================] - 1s 4ms/step - loss: 1.2121 - accuracy: 0.5700 - val_loss: 1.3570 - val_accuracy: 0.5262\n",
            "Epoch 25/100000000000\n",
            "313/313 [==============================] - 2s 5ms/step - loss: 1.1928 - accuracy: 0.5775 - val_loss: 1.3565 - val_accuracy: 0.5231\n",
            "Epoch 26/100000000000\n",
            "313/313 [==============================] - 1s 4ms/step - loss: 1.1942 - accuracy: 0.5750 - val_loss: 1.3601 - val_accuracy: 0.5254\n",
            "Epoch 27/100000000000\n",
            "313/313 [==============================] - 1s 5ms/step - loss: 1.1785 - accuracy: 0.5805 - val_loss: 1.3521 - val_accuracy: 0.5280\n",
            "Epoch 28/100000000000\n",
            "313/313 [==============================] - 1s 4ms/step - loss: 1.1731 - accuracy: 0.5809 - val_loss: 1.3507 - val_accuracy: 0.5306\n",
            "Epoch 29/100000000000\n",
            "313/313 [==============================] - 1s 4ms/step - loss: 1.1568 - accuracy: 0.5867 - val_loss: 1.3642 - val_accuracy: 0.5219\n",
            "Epoch 30/100000000000\n",
            "313/313 [==============================] - 2s 6ms/step - loss: 1.1520 - accuracy: 0.5951 - val_loss: 1.3445 - val_accuracy: 0.5274\n",
            "Epoch 31/100000000000\n",
            "313/313 [==============================] - 1s 5ms/step - loss: 1.1494 - accuracy: 0.5903 - val_loss: 1.3509 - val_accuracy: 0.5198\n",
            "Epoch 32/100000000000\n",
            "313/313 [==============================] - 1s 5ms/step - loss: 1.1388 - accuracy: 0.5972 - val_loss: 1.3440 - val_accuracy: 0.5334\n",
            "Epoch 33/100000000000\n",
            "313/313 [==============================] - 1s 4ms/step - loss: 1.1257 - accuracy: 0.5991 - val_loss: 1.3589 - val_accuracy: 0.5263\n",
            "Epoch 34/100000000000\n",
            "313/313 [==============================] - 1s 4ms/step - loss: 1.1234 - accuracy: 0.6022 - val_loss: 1.3592 - val_accuracy: 0.5242\n",
            "Epoch 35/100000000000\n",
            "313/313 [==============================] - 2s 5ms/step - loss: 1.1130 - accuracy: 0.6056 - val_loss: 1.3599 - val_accuracy: 0.5292\n",
            "Epoch 36/100000000000\n",
            "313/313 [==============================] - 1s 4ms/step - loss: 1.1037 - accuracy: 0.6086 - val_loss: 1.3523 - val_accuracy: 0.5323\n",
            "Epoch 37/100000000000\n",
            "313/313 [==============================] - 1s 5ms/step - loss: 1.0963 - accuracy: 0.6132 - val_loss: 1.3659 - val_accuracy: 0.5305\n"
          ]
        }
      ]
    },
    {
      "cell_type": "markdown",
      "source": [
        "# 3. Evaluation on test data and inference\n",
        "At this point, we will perform a basic evaluation and inference. With the model.evaluate function, the same metrics are calculated, that were used during training:"
      ],
      "metadata": {
        "id": "2FtKp-a2-A9m"
      }
    },
    {
      "cell_type": "code",
      "source": [
        "print(model.evaluate(X_test, Y_test))"
      ],
      "metadata": {
        "id": "I3_9wgDREUna",
        "colab": {
          "base_uri": "https://localhost:8080/"
        },
        "outputId": "2771979d-36b7-4188-c106-4d7fbaaa7c31"
      },
      "execution_count": 55,
      "outputs": [
        {
          "output_type": "stream",
          "name": "stdout",
          "text": [
            "313/313 [==============================] - 1s 3ms/step - loss: 1.3336 - accuracy: 0.5331\n",
            "[1.3335552215576172, 0.5331000089645386]\n"
          ]
        }
      ]
    },
    {
      "cell_type": "markdown",
      "source": [
        "we would like to see similar values, as in the validation set. If those are close to each other, then the generalization ability of the model is good (in case of an independent test-set)."
      ],
      "metadata": {
        "id": "ECHguBFtGL7f"
      }
    },
    {
      "cell_type": "markdown",
      "source": [
        "## 3.1. Exercise\n",
        "Predict the class of the first 10 elements in the test set, and compare the predicted values with the actual, target values in the test set. Hints:\n",
        "* you can use [model.predict](https://www.activestate.com/resources/quick-reads/how-to-use-a-model-to-do-predictions-with-keras/) for prediction\n",
        "* from the output you can select the largest value with the [argmax() function of Numpy](https://stackoverflow.com/questions/62358642/convert-one-hot-encoding-back-to-number-label). As there are multiple values, you have to call it with axis=1 parameter.\n",
        "* it is enought to compare the predictions and the targets by printing the values out and inspecting them."
      ],
      "metadata": {
        "id": "0Io4zYJeHjz6"
      }
    },
    {
      "cell_type": "code",
      "source": [
        "preds = model.predict(X_test[:10])\n",
        "preds_dense = np.argmax(preds, axis=1)"
      ],
      "metadata": {
        "id": "XEEyU7exILqF",
        "colab": {
          "base_uri": "https://localhost:8080/"
        },
        "outputId": "eaf61c8c-4b5e-4ded-b16c-afe17aa1d025"
      },
      "execution_count": 56,
      "outputs": [
        {
          "output_type": "stream",
          "name": "stdout",
          "text": [
            "1/1 [==============================] - 0s 74ms/step\n"
          ]
        }
      ]
    },
    {
      "cell_type": "markdown",
      "source": [
        "Before comparision, you have to convert back the one-hot encoded target values the same way, as you converted the output of the neural network to class values with argmax() function."
      ],
      "metadata": {
        "id": "seZTEFI-I5cZ"
      }
    },
    {
      "cell_type": "code",
      "source": [
        "print(\"Target labels:\", np.argmax(Y_test[:10],axis=1))\n",
        "print(\"Predicted labels:\", preds_dense)"
      ],
      "metadata": {
        "id": "PHLvoMuIIkJ6",
        "colab": {
          "base_uri": "https://localhost:8080/"
        },
        "outputId": "8ef96286-d6c6-4f4e-ed85-10ac4672f75f"
      },
      "execution_count": 57,
      "outputs": [
        {
          "output_type": "stream",
          "name": "stdout",
          "text": [
            "Target labels: [3 8 8 0 6 6 1 6 3 1]\n",
            "Predicted labels: [3 8 8 0 4 6 3 6 5 1]\n"
          ]
        }
      ]
    }
  ]
}